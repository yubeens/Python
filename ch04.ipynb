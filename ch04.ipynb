{
 "cells": [
  {
   "cell_type": "code",
   "execution_count": 1,
   "metadata": {},
   "outputs": [
    {
     "name": "stdout",
     "output_type": "stream",
     "text": [
      "이름을 입력하세요\n",
      "홍길동\n"
     ]
    }
   ],
   "source": [
    "print(\"이름을 입력하세요\")\n",
    "name = input()\n",
    "print(name)"
   ]
  },
  {
   "cell_type": "code",
   "execution_count": 6,
   "metadata": {},
   "outputs": [
    {
     "name": "stdout",
     "output_type": "stream",
     "text": [
      "1 + 9 = 10\n",
      "10\n"
     ]
    }
   ],
   "source": [
    "num1=int(input(\"숫자1 입력\")) #input함수는 문자열로 받아들인다. int로 숫자로 변환해줘야한다.\n",
    "op=input(\"연산자 입력\") \n",
    "num2=int(input(\"숫자2 입력\"))\n",
    "\n",
    "print(num1,op,num2, '=', num1+num2) \n",
    "print(num1+num2)"
   ]
  },
  {
   "cell_type": "code",
   "execution_count": 7,
   "metadata": {},
   "outputs": [
    {
     "name": "stdout",
     "output_type": "stream",
     "text": [
      "abcd\n",
      "20\n"
     ]
    }
   ],
   "source": [
    "# print()\n",
    "name = 'abcd'\n",
    "age = 20\n",
    "print(name)\n",
    "print(age)\n"
   ]
  },
  {
   "cell_type": "code",
   "execution_count": 13,
   "metadata": {},
   "outputs": [
    {
     "name": "stdout",
     "output_type": "stream",
     "text": [
      "85 80 80 245 81.67\n"
     ]
    }
   ],
   "source": [
    "kor=85\n",
    "eng=80\n",
    "math=80\n",
    "print(kor,eng,math, end=\" \")\n",
    "tot=kor+eng+math\n",
    "print(tot, end=\" \")\n",
    "avg=tot/3\n",
    "print(f'{avg:.2f}') #소수점 둘째자리까지 출력"
   ]
  },
  {
   "cell_type": "code",
   "execution_count": 22,
   "metadata": {},
   "outputs": [
    {
     "name": "stdout",
     "output_type": "stream",
     "text": [
      "본 프로그램은 섭씨온도를 화씨온도로 변환하는 프로그램입니다.\n",
      "섭씨온도: 32.2\n",
      "화씨온도: 89.96\n"
     ]
    }
   ],
   "source": [
    "print(\"본 프로그램은 섭씨온도를 화씨온도로 변환하는 프로그램입니다.\")\n",
    "celsius = float(input(\"변환하고 싶은 섭씨 온도를 입력하세요.\"))\n",
    "fahrenheit = (float(celsius)*1.8)+32\n",
    "print(\"섭씨온도:\", celsius)\n",
    "print(f\"화씨온도: {fahrenheit:.2f}\")"
   ]
  },
  {
   "cell_type": "code",
   "execution_count": null,
   "metadata": {},
   "outputs": [],
   "source": [
    "if 조건:\n",
    "    실행문1\n",
    "    실행문2\n",
    "    ... \n",
    "문장"
   ]
  },
  {
   "cell_type": "code",
   "execution_count": null,
   "metadata": {},
   "outputs": [
    {
     "name": "stdout",
     "output_type": "stream",
     "text": [
      "걸어서 가라\n",
      "4000\n",
      "end\n"
     ]
    }
   ],
   "source": [
    "money=10000\n",
    "\n",
    "if money>5000:\n",
    "    print(\"택시를 탄다\")\n",
    "else:\n",
    "    print(\"걸어서 가라\")\n",
    "print(money)\n",
    "print(\"end\")"
   ]
  },
  {
   "cell_type": "code",
   "execution_count": 30,
   "metadata": {},
   "outputs": [
    {
     "name": "stdout",
     "output_type": "stream",
     "text": [
      "B학점\n"
     ]
    }
   ],
   "source": [
    "score=int(input(\"점수를 입력하세요\"))\n",
    "if score>=90:\n",
    "    print(\"A학점\")\n",
    "elif score>=80:\n",
    "    print(\"B학점\")\n",
    "elif score>=70:\n",
    "    print(\"C학점\")\n",
    "else:\n",
    "    print(\"F학점\")\n"
   ]
  },
  {
   "cell_type": "markdown",
   "metadata": {},
   "source": [
    "money가 10000이상이면 택시를 타고 가라\n",
    "money가 5000~9999이면 버스를 타고 가라\n",
    "그렇지 않으면 걸어서 가라."
   ]
  },
  {
   "cell_type": "code",
   "execution_count": 35,
   "metadata": {},
   "outputs": [
    {
     "name": "stdout",
     "output_type": "stream",
     "text": [
      "걸어가~\n"
     ]
    }
   ],
   "source": [
    "money = int(input(\"지금 얼마 가지고 있니?\"))\n",
    "if money>=10000:\n",
    "    print(\"택시 타고가~\")\n",
    "elif money<10000 and money>=5000:\n",
    "    print(\"버스 타고가~\")\n",
    "else:\n",
    "    print(\"걸어가~\")"
   ]
  },
  {
   "cell_type": "code",
   "execution_count": null,
   "metadata": {},
   "outputs": [
    {
     "name": "stdout",
     "output_type": "stream",
     "text": [
      "불합격\n"
     ]
    }
   ],
   "source": [
    "score1=int(input(\"점수 1 입력\"))\n",
    "score2=int(input(\"점수 2 입력\"))\n",
    "\n",
    "if score1>=90 and score2>=60: #and는 둘다 참일때 참\n",
    "    print(\"합격\")\n",
    "else:\n",
    "    print(\"불합격\")"
   ]
  },
  {
   "cell_type": "code",
   "execution_count": 37,
   "metadata": {},
   "outputs": [
    {
     "name": "stdout",
     "output_type": "stream",
     "text": [
      "합격\n"
     ]
    }
   ],
   "source": [
    "score1=int(input(\"점수 1 입력\"))\n",
    "score2=int(input(\"점수 2 입력\"))\n",
    "\n",
    "if score1<60 or score2<60: #or는 둘 중 하나만 참이어도 참\n",
    "    print(\"불합격\")\n",
    "else:\n",
    "    print(\"합격\")"
   ]
  },
  {
   "cell_type": "markdown",
   "metadata": {},
   "source": [
    "점수 2개를 입력받아서 평균이 70점 이상, 각 과목은 60점 이상이면 합격이된다.\n",
    "합격자들에 한해서 등급이 주어짐\n",
    "평균이 90점 이상이면 1등급\n",
    "80점 이상이면 2등급"
   ]
  },
  {
   "cell_type": "code",
   "execution_count": 41,
   "metadata": {},
   "outputs": [
    {
     "name": "stdout",
     "output_type": "stream",
     "text": [
      "합격 2등급\n"
     ]
    }
   ],
   "source": [
    "score1 = int(input(\"점수1 입력\"))\n",
    "score2 = int(input(\"점수2 입력\"))\n",
    "\n",
    "avg = float(score1 + score2) / 2\n",
    "\n",
    "if score1 >=60 and score2 >=60 and avg>=70 :\n",
    "    print('합격', end=\" \")\n",
    "    if avg >=90 :\n",
    "        print(\"1등급\")\n",
    "    elif avg >=80 :\n",
    "        print(\"2등급\")\n",
    "    else :\n",
    "        print(\"3등급\")    \n",
    "else :\n",
    "    print(\"불합격\")"
   ]
  },
  {
   "cell_type": "code",
   "execution_count": 42,
   "metadata": {},
   "outputs": [
    {
     "name": "stdout",
     "output_type": "stream",
     "text": [
      "success\n"
     ]
    }
   ],
   "source": [
    "score=60\n",
    "message=\"\"\n",
    "if score>=60:\n",
    "    message=\"success\"\n",
    "else:\n",
    "    message=\"failure\"\n",
    "print(message)"
   ]
  },
  {
   "cell_type": "code",
   "execution_count": 43,
   "metadata": {},
   "outputs": [
    {
     "name": "stdout",
     "output_type": "stream",
     "text": [
      "success\n"
     ]
    }
   ],
   "source": [
    "message=\"success\" if score>=60 else \"failure\"\n",
    "print(message)"
   ]
  },
  {
   "cell_type": "markdown",
   "metadata": {},
   "source": [
    "나이는 (2020 - 태어난 연도 + 1)로 계산\n",
    "26세 이하 20세 이상이면 '대학생'\n",
    "20세 미만 17세 이상이면 '고등학생'\n",
    "17세 미만 14세 이상이면 '중학생'\n",
    "14세 미만 8세 이상이면'초등학생'\n",
    "그 외의 경우는 '학생이 아닙니다.' 출력"
   ]
  },
  {
   "cell_type": "code",
   "execution_count": null,
   "metadata": {},
   "outputs": [
    {
     "name": "stdout",
     "output_type": "stream",
     "text": [
      "대학생\n"
     ]
    }
   ],
   "source": [
    "year=int(input(\"당신이 태어난 연도를 입력하세요.\"))\n",
    "print(year)\n",
    "age = 2020-year + 1\n",
    "\n",
    "if 20<= age <=26:\n",
    "    print(\"대학생\")\n",
    "elif 17<= age <20:\n",
    "    print(\"고등학생\")\n",
    "elif 14<= age <17:\n",
    "    print(\"중학생\")\n",
    "elif 8<= age <14:\n",
    "    print(\"초등학생\")\n",
    "else:\n",
    "    print(\"학생이 아닙니다.\")\n"
   ]
  },
  {
   "cell_type": "markdown",
   "metadata": {},
   "source": [
    "# while문"
   ]
  },
  {
   "cell_type": "code",
   "execution_count": 47,
   "metadata": {},
   "outputs": [
    {
     "name": "stdout",
     "output_type": "stream",
     "text": [
      "1\n",
      "2\n",
      "3\n",
      "4\n",
      "5\n",
      "6\n",
      "7\n",
      "8\n",
      "9\n",
      "10\n"
     ]
    }
   ],
   "source": [
    "i=1\n",
    "sum=0\n",
    "while i<=10:\n",
    "    sum+=i\n",
    "    print(i)\n",
    "    i+=1"
   ]
  },
  {
   "cell_type": "code",
   "execution_count": 48,
   "metadata": {},
   "outputs": [
    {
     "name": "stdout",
     "output_type": "stream",
     "text": [
      "나무를 1번 찍었습니다.\n",
      "나무를 2번 찍었습니다.\n",
      "나무를 3번 찍었습니다.\n",
      "나무를 4번 찍었습니다.\n",
      "나무를 5번 찍었습니다.\n",
      "나무를 6번 찍었습니다.\n",
      "나무를 7번 찍었습니다.\n",
      "나무를 8번 찍었습니다.\n",
      "나무를 9번 찍었습니다.\n",
      "나무를 10번 찍었습니다.\n",
      "나무 넘어갑니다.\n"
     ]
    }
   ],
   "source": [
    "treeHit = 0 #나무를 찍은 횟수\n",
    "while treeHit < 10: #나무를 찍은 횟수가 10보다 작을 때 반복\n",
    "    treeHit += 1 #나무를 찍은 횟수 1 증가\n",
    "    print(f\"나무를 {treeHit}번 찍었습니다.\")\n",
    "    if treeHit == 10: #나무를 찍은 횟수가 10이면\n",
    "        print(\"나무 넘어갑니다.\") #나무 넘어갑니다 출력\n",
    "\n",
    "    "
   ]
  },
  {
   "cell_type": "code",
   "execution_count": null,
   "metadata": {},
   "outputs": [
    {
     "name": "stdout",
     "output_type": "stream",
     "text": [
      "end\n"
     ]
    }
   ],
   "source": [
    "list1=[]\n",
    "flag=False\n",
    "\n",
    "while True:\n",
    "    num=int(input(\"1.add,2.del,3.list,4.quit\"))\n",
    "\n",
    "    if num ==1:\n",
    "        data=input(\"데이터 입력\")\n",
    "        list1.append(data)\n",
    "    elif num ==2:\n",
    "        index=int(input(\"삭제할 데이터의 인덱스 입력\"))\n",
    "        del list1[index]\n",
    "    elif num ==3:\n",
    "        print(list1)\n",
    "    elif num ==4:\n",
    "        break\n",
    "    else:\n",
    "        print(\"다시 입력하세요\")\n",
    "print(\"end\")"
   ]
  },
  {
   "cell_type": "code",
   "execution_count": 53,
   "metadata": {},
   "outputs": [
    {
     "name": "stdout",
     "output_type": "stream",
     "text": [
      "1\n",
      "3\n",
      "5\n",
      "7\n",
      "9\n"
     ]
    }
   ],
   "source": [
    "a=0\n",
    "while a<10:\n",
    "    a+=1\n",
    "    if a%2==0:\n",
    "        continue\n",
    "    print(a)"
   ]
  },
  {
   "cell_type": "code",
   "execution_count": null,
   "metadata": {},
   "outputs": [],
   "source": [
    "while True:\n",
    "    print(\"Ctrl+C를 눌러야 종료됩니다.\")"
   ]
  },
  {
   "cell_type": "markdown",
   "metadata": {},
   "source": [
    "Markdown에서 문장을 꾸미는 방법에는 여러 가지가 있습니다. 다음은 유용하게 사용할 수 있는 몇 가지 방법입니다:\n",
    "\n",
    "1. **굵게 (Bold)**:\n",
    "   ```markdown\n",
    "   **굵게**\n",
    "   ```\n",
    "   **굵게**\n",
    "\n",
    "2. **기울임 (Italic)**:\n",
    "   ```markdown\n",
    "   *기울임* 또는 _기울임_\n",
    "   ```\n",
    "   *기울임* 또는 _기울임_\n",
    "\n",
    "3. **굵게 및 기울임 (Bold and Italic)**:\n",
    "   ```markdown\n",
    "   ***굵게 및 기울임***\n",
    "   ```\n",
    "   ***굵게 및 기울임***\n",
    "\n",
    "4. **취소선 (Strikethrough)**:\n",
    "   ```markdown\n",
    "   ~~취소선~~\n",
    "   ```\n",
    "   ~~취소선~~\n",
    "\n",
    "5. **인용구 (Blockquote)**:\n",
    "   ```markdown\n",
    "   > 인용구\n",
    "   ```\n",
    "> 인용구\n",
    "\n",
    "6. **코드 블록 (Code Block)**:\n",
    "   ```markdown\n",
    "   코드 블록\n",
    "   ```\n",
    "   코드 블록`\n",
    "\n",
    "다중 행 코드 블록 (Multi-line Code Block):\n",
    "```python\n",
    "def hello():\n",
    "    print(\"Hello, world!\")\n",
    "```python\n",
    "def hello():\n",
    "    print(\"Hello, world!\")\n",
    "\n",
    "링크 (Link):\n",
    "[링크 텍스트](https://example.com)\n",
    "링크 텍스트\n",
    "\n",
    "이미지 (Image):\n",
    "![대체 텍스트](https://example.com/image.jpg)\n",
    "!대체 텍스트\n",
    "\n",
    "목록 (Lists):\n",
    "순서 없는 목록 (Unordered List):\n",
    "- 항목 1\n",
    "- 항목 2\n",
    "- 항목 3\n",
    "항목 1\n",
    "항목 2\n",
    "항목 3\n",
    "\n",
    "    \n",
    "순서 있는 목록 (Ordered List):\n",
    "    1. 항목 1\n",
    "    2. 항목 2\n",
    "    3. 항목 3\n",
    "    \n",
    "항목 1\n",
    "항목 2\n",
    "항목 3"
   ]
  },
  {
   "cell_type": "code",
   "execution_count": null,
   "metadata": {},
   "outputs": [],
   "source": []
  }
 ],
 "metadata": {
  "kernelspec": {
   "display_name": "base",
   "language": "python",
   "name": "python3"
  },
  "language_info": {
   "codemirror_mode": {
    "name": "ipython",
    "version": 3
   },
   "file_extension": ".py",
   "mimetype": "text/x-python",
   "name": "python",
   "nbconvert_exporter": "python",
   "pygments_lexer": "ipython3",
   "version": "3.12.7"
  }
 },
 "nbformat": 4,
 "nbformat_minor": 2
}
