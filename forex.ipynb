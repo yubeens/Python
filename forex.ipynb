{
 "cells": [
  {
   "cell_type": "code",
   "execution_count": null,
   "metadata": {},
   "outputs": [],
   "source": [
    "while True:\n",
    "    money=int(input(\"금액을 입력하세요\"))\n",
    "    num=int(input(\"1.오렌지 주스, 2.커피, 3.콜라, 4.취소\"))\n",
    "    if num==1:\n",
    "        if money>100:\n",
    "            print(\"주문 완료\")\n",
    "        else:\n",
    "            print(\"잔액 부족\")\n",
    "    elif num==2:\n",
    "        if money>200:\n",
    "            print(\"주문 완료\")\n",
    "        else:\n",
    "            print(\"잔액 부족\")\n",
    "    elif num==3:\n",
    "        if money>3000:\n",
    "            print(\"주문 완료\")\n",
    "        else:\n",
    "            print(\"잔액 부족\")\n",
    "    elif num==4: break\n",
    "    else:\n",
    "        print(\"입력 오류\")\n",
    "        break\n"
   ]
  }
 ],
 "metadata": {
  "language_info": {
   "name": "python"
  }
 },
 "nbformat": 4,
 "nbformat_minor": 2
}
