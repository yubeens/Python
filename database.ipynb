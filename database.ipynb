{
 "cells": [
  {
   "cell_type": "code",
   "execution_count": 1,
   "metadata": {},
   "outputs": [],
   "source": [
    "import sqlite3"
   ]
  },
  {
   "cell_type": "code",
   "execution_count": 2,
   "metadata": {},
   "outputs": [],
   "source": [
    "def create_table():\n",
    "    conn = sqlite3.connect('books.db')\n",
    "    sql=\"\"\"CREATE TABLE IF NOT EXISTS books\n",
    "    (title TEXT,\n",
    "    published_date TEXT,\n",
    "    publisher TEXT,\n",
    "    page INTEGER,\n",
    "    recommend INTEGER)\"\"\"\n",
    "    cur = conn.cursor()\n",
    "    cur.execute(sql)\n",
    "    conn.commit()\n",
    "    conn.close()\n",
    "create_table()"
   ]
  },
  {
   "cell_type": "code",
   "execution_count": 3,
   "metadata": {},
   "outputs": [],
   "source": [
    "def insert_book1():\n",
    "    conn=sqlite3.connect(\"books.db\")\n",
    "    cursor=conn.cursor()\n",
    "    sql=\"insert into books values('Java','2019-05-20','길벗',500,10)\"\n",
    "    cursor.execute(sql)\n",
    "    conn.commit()\n",
    "    conn.close()\n",
    "insert_book1()"
   ]
  },
  {
   "cell_type": "code",
   "execution_count": 4,
   "metadata": {},
   "outputs": [
    {
     "name": "stdout",
     "output_type": "stream",
     "text": [
      "('Java', '2019-05-20', '길벗', 500, 10)\n",
      "('python Programming', '2020-01-01', '한빛', 400, 5)\n",
      "('머신러닝', '2021-01-01', '냥냥', 200, 3)\n",
      "('IOT', '2022-01-01', '펀치', 300, 7)\n",
      "('React', '2023-01-01', '야옹', 350, 9)\n",
      "('Java', '2019-05-20', '길벗', 500, 10)\n"
     ]
    }
   ],
   "source": [
    "def select_all():\n",
    "    conn=sqlite3.connect(\"books.db\")\n",
    "    cursor=conn.cursor()\n",
    "    sql=\"select * from books\"\n",
    "    cursor.execute(sql)\n",
    "    books=cursor.fetchall() #실행된 sql쿼리의 결과를 모두 가져오는 메서드\n",
    "    #한 행의 데이터를 튜플로 가져오며, 전체 결과는 list에 저장\n",
    "    for book in books:\n",
    "        print(book)\n",
    "    conn.close()\n",
    "    \n",
    "select_all()"
   ]
  },
  {
   "cell_type": "code",
   "execution_count": 5,
   "metadata": {},
   "outputs": [
    {
     "name": "stdout",
     "output_type": "stream",
     "text": [
      "('Java', '2019-05-20', '길벗', 500, 10)\n",
      "('python Programming', '2020-01-01', '한빛', 400, 5)\n",
      "('머신러닝', '2021-01-01', '냥냥', 200, 3)\n",
      "('IOT', '2022-01-01', '펀치', 300, 7)\n",
      "('React', '2023-01-01', '야옹', 350, 9)\n",
      "('Java', '2019-05-20', '길벗', 500, 10)\n",
      "('python Programming', '2020-01-01', '한빛', 400, 5)\n"
     ]
    }
   ],
   "source": [
    "def insert_book2(data):\n",
    "    conn=sqlite3.connect(\"books.db\")\n",
    "    cursor=conn.cursor()\n",
    "    sql=\"insert into books values(?,?,?,?,?)\" \n",
    "    cursor.execute(sql,data)\n",
    "    conn.commit()\n",
    "    conn.close()\n",
    "\n",
    "data = ('python Programming','2020-01-01','한빛',400,5)\n",
    "insert_book2(data)\n",
    "select_all()"
   ]
  },
  {
   "cell_type": "code",
   "execution_count": 6,
   "metadata": {},
   "outputs": [
    {
     "name": "stdout",
     "output_type": "stream",
     "text": [
      "('Java', '2019-05-20', '길벗', 500, 10)\n",
      "('python Programming', '2020-01-01', '한빛', 400, 5)\n",
      "('머신러닝', '2021-01-01', '냥냥', 200, 3)\n",
      "('IOT', '2022-01-01', '펀치', 300, 7)\n",
      "('React', '2023-01-01', '야옹', 350, 9)\n",
      "('Java', '2019-05-20', '길벗', 500, 10)\n",
      "('python Programming', '2020-01-01', '한빛', 400, 5)\n",
      "('머신러닝', '2021-01-01', '냥냥', 200, 3)\n",
      "('IOT', '2022-01-01', '펀치', 300, 7)\n",
      "('React', '2023-01-01', '야옹', 350, 9)\n"
     ]
    }
   ],
   "source": [
    "def many_insert_book(datas):\n",
    "    conn=sqlite3.connect(\"books.db\")\n",
    "    cursor=conn.cursor()\n",
    "    sql=\"insert into books values(?,?,?,?,?)\" \n",
    "    cursor.executemany(sql,datas) #여러데이터를 한번에 삽입\n",
    "    #for data in datas:\n",
    "    #   cur.execute(sql,data) \n",
    "    conn.commit()\n",
    "    conn.close()\n",
    "datas=[('머신러닝','2021-01-01','냥냥',200,3),\n",
    "       ('IOT','2022-01-01','펀치',300,7),\n",
    "       ('React','2023-01-01','야옹',350,9)]\n",
    "many_insert_book(datas)\n",
    "select_all()"
   ]
  },
  {
   "cell_type": "code",
   "execution_count": 7,
   "metadata": {},
   "outputs": [
    {
     "name": "stdout",
     "output_type": "stream",
     "text": [
      "('머신러닝', '2021-01-01', '냥냥', 200, 3)\n"
     ]
    }
   ],
   "source": [
    "def one_book(title):\n",
    "    conn=sqlite3.connect(\"books.db\")\n",
    "    cursor=conn.cursor()\n",
    "    cursor.execute(\"select * from books where title=?\", (title,))\n",
    "    book=cursor.fetchone()\n",
    "    print(book)\n",
    "    conn.close()\n",
    "\n",
    "one_book('머신러닝')"
   ]
  },
  {
   "cell_type": "code",
   "execution_count": 8,
   "metadata": {},
   "outputs": [
    {
     "name": "stdout",
     "output_type": "stream",
     "text": [
      "[('Java', '2019-05-20', '길벗', 500, 10), ('python Programming', '2020-01-01', '한빛', 400, 5)]\n"
     ]
    }
   ],
   "source": [
    "def some_book(number):\n",
    "    conn=sqlite3.connect(\"books.db\")\n",
    "    cursor=conn.cursor()\n",
    "    cursor.execute(\"select * from books\")\n",
    "    book=cursor.fetchmany(number)\n",
    "    print(book)\n",
    "    conn.close()\n",
    "some_book(2)"
   ]
  },
  {
   "cell_type": "code",
   "execution_count": 9,
   "metadata": {},
   "outputs": [
    {
     "name": "stdout",
     "output_type": "stream",
     "text": [
      "('Java', '2019-05-20', '길벗', 500, 10)\n",
      "('Java', '2019-05-20', '길벗', 500, 10)\n",
      "('python Programming', '2020-01-01', '한빛', 400, 5)\n",
      "('python Programming', '2020-01-01', '한빛', 400, 5)\n",
      "('React', '2023-01-01', '야옹', 350, 9)\n",
      "('React', '2023-01-01', '야옹', 350, 9)\n",
      "('IOT', '2022-01-01', '펀치', 300, 7)\n",
      "('IOT', '2022-01-01', '펀치', 300, 7)\n"
     ]
    }
   ],
   "source": [
    "def serch_book(page):\n",
    "    conn=sqlite3.connect(\"books.db\")\n",
    "    cursor=conn.cursor()\n",
    "    cursor.execute(\"select * from books WHERE page>=? order by page desc\",(page,))\n",
    "    books=cursor.fetchall()\n",
    "    for book in books:\n",
    "        print(book)\n",
    "    conn.close()\n",
    "\n",
    "serch_book(300)\n"
   ]
  },
  {
   "cell_type": "code",
   "execution_count": 33,
   "metadata": {},
   "outputs": [],
   "source": [
    "def update_book(datas):\n",
    "    conn=sqlite3.connect(\"books.db\")\n",
    "    cursor=conn.cursor()\n",
    "    sql = \"UPDATE books SET page=?, recommend=? WHERE title=? \"\n",
    "    cursor.executemany(sql,datas)\n",
    "    conn.commit()\n",
    "    conn.close()\n",
    "\n",
    "datas=[(100,1,'Java'),(200,2,'IOT')]\n",
    "update_book(datas)"
   ]
  },
  {
   "cell_type": "code",
   "execution_count": 34,
   "metadata": {},
   "outputs": [
    {
     "name": "stdout",
     "output_type": "stream",
     "text": [
      "('Java', '2019-05-20', '길벗', 100, 1)\n",
      "('python Programming', '2020-01-01', '한빛', 400, 5)\n",
      "('머신러닝', '2021-01-01', '냥냥', 200, 3)\n",
      "('IOT', '2022-01-01', '펀치', 200, 2)\n",
      "('React', '2023-01-01', '야옹', 300, 8)\n",
      "('Java', '2019-05-20', '길벗', 100, 1)\n",
      "('python Programming', '2020-01-01', '한빛', 400, 5)\n",
      "('머신러닝', '2021-01-01', '냥냥', 200, 3)\n",
      "('IOT', '2022-01-01', '펀치', 200, 2)\n",
      "('React', '2023-01-01', '야옹', 300, 8)\n"
     ]
    }
   ],
   "source": [
    "select_all()"
   ]
  },
  {
   "cell_type": "code",
   "execution_count": 38,
   "metadata": {},
   "outputs": [
    {
     "name": "stdout",
     "output_type": "stream",
     "text": [
      "('python Programming', '2020-01-01', '한빛', 400, 5)\n",
      "('머신러닝', '2021-01-01', '냥냥', 200, 3)\n",
      "('IOT', '2022-01-01', '펀치', 200, 2)\n",
      "('React', '2023-01-01', '야옹', 300, 8)\n",
      "('python Programming', '2020-01-01', '한빛', 400, 5)\n",
      "('머신러닝', '2021-01-01', '냥냥', 200, 3)\n",
      "('IOT', '2022-01-01', '펀치', 200, 2)\n",
      "('React', '2023-01-01', '야옹', 300, 8)\n"
     ]
    }
   ],
   "source": [
    "def delete_book(data):\n",
    "    conn=sqlite3.connect(\"books.db\")\n",
    "    cursor=conn.cursor()\n",
    "    sql = \"DELETE FROM books WHERE title=?\"\n",
    "    cursor.execute(sql,(data,))\n",
    "    conn.commit()\n",
    "    conn.close()\n",
    "delete_book('Java')\n",
    "select_all()\n"
   ]
  },
  {
   "cell_type": "code",
   "execution_count": 43,
   "metadata": {},
   "outputs": [
    {
     "name": "stdout",
     "output_type": "stream",
     "text": [
      "('python Programming', '2020-01-01', '한빛', 400, 5)\n",
      "('머신러닝', '2021-01-01', '냥냥', 200, 3)\n",
      "('python Programming', '2020-01-01', '한빛', 400, 5)\n",
      "('머신러닝', '2021-01-01', '냥냥', 200, 3)\n"
     ]
    }
   ],
   "source": [
    "def delete_books(datas):\n",
    "    conn=sqlite3.connect(\"books.db\")\n",
    "    cur=conn.cursor()\n",
    "    sql=\"DELETE FROM books WHERE title=?\"\n",
    "    cur.executemany(sql,datas)\n",
    "    conn.commit()\n",
    "    conn.close()\n",
    "datas=[('IOT',),('React',)] #튜플로 만들 땐 콤마 무조건 입력\n",
    "delete_books(datas)\n",
    "select_all()"
   ]
  },
  {
   "cell_type": "code",
   "execution_count": 56,
   "metadata": {},
   "outputs": [
    {
     "name": "stdout",
     "output_type": "stream",
     "text": [
      "Requirement already satisfied: pymysql in c:\\users\\it\\anaconda3\\lib\\site-packages (1.1.1)\n"
     ]
    }
   ],
   "source": [
    "! pip install pymysql"
   ]
  },
  {
   "cell_type": "code",
   "execution_count": 57,
   "metadata": {},
   "outputs": [],
   "source": [
    "import pymysql"
   ]
  },
  {
   "cell_type": "code",
   "execution_count": 59,
   "metadata": {},
   "outputs": [],
   "source": [
    "conn=pymysql.connect(host='localhost',\n",
    "                     user='yubeen',\n",
    "                     password='1234',\n",
    "                     db='pydb',\n",
    "                     charset='utf8')"
   ]
  },
  {
   "cell_type": "code",
   "execution_count": 60,
   "metadata": {},
   "outputs": [
    {
     "name": "stdout",
     "output_type": "stream",
     "text": [
      "<module 'pymysql' from 'c:\\\\Users\\\\it\\\\anaconda3\\\\Lib\\\\site-packages\\\\pymysql\\\\__init__.py'>\n"
     ]
    }
   ],
   "source": [
    "print(pymysql)"
   ]
  },
  {
   "cell_type": "code",
   "execution_count": 61,
   "metadata": {},
   "outputs": [
    {
     "name": "stdout",
     "output_type": "stream",
     "text": [
      "(1, 'Java', '한빛', '200', '박경미')\n",
      "(2, 'python', '길벗', '300', '이준목')\n"
     ]
    }
   ],
   "source": [
    "cursor=conn.cursor()\n",
    "sql=\"SELECT * FROM book\"\n",
    "cursor.execute(sql)\n",
    "books=cursor.fetchall()\n",
    "for book in books:\n",
    "    print(book)\n",
    "conn.close()"
   ]
  },
  {
   "cell_type": "code",
   "execution_count": 62,
   "metadata": {},
   "outputs": [],
   "source": [
    "def insert_data1(data):\n",
    "    conn = pymysql.connect(host='localhost',\n",
    "                           user='yubeen',\n",
    "                           password='1234',\n",
    "                           db='pydb',\n",
    "                           charset='utf8')\n",
    "    cursor=conn.cursor()\n",
    "    sql=\"INSERT INTO book(title, pub, pages, author) VALUES(%s, %s, %s, %s)\"\n",
    "    cursor.execute(sql,data)\n",
    "    conn.commit()\n",
    "    conn.close()\n",
    "data=('phthon','한빛',500,'김기영')\n",
    "insert_data1(data)"
   ]
  },
  {
   "cell_type": "code",
   "execution_count": 63,
   "metadata": {},
   "outputs": [
    {
     "name": "stdout",
     "output_type": "stream",
     "text": [
      "(1, 'Java', '한빛', '200', '박경미')\n",
      "(2, 'python', '길벗', '300', '이준목')\n",
      "(3, 'phthon', '한빛', '500', '김기영')\n"
     ]
    }
   ],
   "source": [
    "def select_all():\n",
    "    conn=pymysql.connect(host='localhost',\n",
    "                           user='yubeen',\n",
    "                           password='1234',\n",
    "                           db='pydb',\n",
    "                           charset='utf8')\n",
    "    cursor=conn.cursor()\n",
    "    sql=\"SELECT * FROM book\"\n",
    "    cursor.execute(sql)\n",
    "    books=cursor.fetchall()\n",
    "    for book in books:\n",
    "        print(book)\n",
    "    conn.close()\n",
    "select_all()"
   ]
  },
  {
   "cell_type": "code",
   "execution_count": 65,
   "metadata": {},
   "outputs": [
    {
     "name": "stdout",
     "output_type": "stream",
     "text": [
      "(1, 'Java', '한빛', '200', '박경미')\n",
      "(2, 'python', '길벗', '300', '이준목')\n",
      "(3, 'phthon', '한빛', '500', '김기영')\n",
      "(4, 'python3', '한빛', '300', '조유빈')\n",
      "(5, 'python4', '한빛', '400', '이동근')\n"
     ]
    }
   ],
   "source": [
    "def insert_many(datas):\n",
    "    conn=pymysql.connect(host='localhost',\n",
    "                           user='yubeen',\n",
    "                           password='1234',\n",
    "                           db='pydb',\n",
    "                           charset='utf8')\n",
    "    cursor=conn.cursor()\n",
    "    sql=\"INSERT INTO book(title,pub,pages,author) VALUES(%s,%s,%s,%s)\"\n",
    "    cursor.executemany(sql,datas)\n",
    "    conn.commit()\n",
    "    conn.close()\n",
    "\n",
    "datas=[('python3','한빛',300,'조유빈'),\n",
    "       ('python4','한빛',400,'이동근')]\n",
    "insert_many(datas)\n",
    "select_all()"
   ]
  },
  {
   "cell_type": "code",
   "execution_count": 74,
   "metadata": {},
   "outputs": [
    {
     "name": "stdout",
     "output_type": "stream",
     "text": [
      "Collecting oracledb\n",
      "  Downloading oracledb-3.0.0-cp312-cp312-win_amd64.whl.metadata (5.6 kB)\n",
      "Requirement already satisfied: cryptography>=3.2.1 in c:\\users\\it\\anaconda3\\lib\\site-packages (from oracledb) (43.0.0)\n",
      "Requirement already satisfied: cffi>=1.12 in c:\\users\\it\\anaconda3\\lib\\site-packages (from cryptography>=3.2.1->oracledb) (1.17.1)\n",
      "Requirement already satisfied: pycparser in c:\\users\\it\\anaconda3\\lib\\site-packages (from cffi>=1.12->cryptography>=3.2.1->oracledb) (2.21)\n",
      "Downloading oracledb-3.0.0-cp312-cp312-win_amd64.whl (2.1 MB)\n",
      "   ---------------------------------------- 0.0/2.1 MB ? eta -:--:--\n",
      "   ---------------------------------------- 2.1/2.1 MB 38.2 MB/s eta 0:00:00\n",
      "Installing collected packages: oracledb\n",
      "Successfully installed oracledb-3.0.0\n"
     ]
    }
   ],
   "source": [
    "! pip install oracledb"
   ]
  },
  {
   "cell_type": "code",
   "execution_count": 75,
   "metadata": {},
   "outputs": [],
   "source": [
    "import oracledb\n",
    "\n",
    "conn = oracledb.connect('scott/tiger@localhost:1521/xe')"
   ]
  },
  {
   "cell_type": "code",
   "execution_count": 76,
   "metadata": {},
   "outputs": [
    {
     "name": "stdout",
     "output_type": "stream",
     "text": [
      "(7369, 'SMITH', 'CLERK', 7902, datetime.datetime(1980, 12, 17, 0, 0), 800.0, None, 20)\n",
      "(7499, 'ALLEN', 'SALESMAN', 7698, datetime.datetime(1981, 2, 20, 0, 0), 1600.0, 300.0, 30)\n",
      "(7521, 'WARD', 'SALESMAN', 7698, datetime.datetime(1981, 2, 22, 0, 0), 1250.0, 500.0, 30)\n",
      "(7566, 'JONES', 'MANAGER', 7839, datetime.datetime(1981, 4, 2, 0, 0), 2975.0, None, 20)\n",
      "(7654, 'MARTIN', 'SALESMAN', 7698, datetime.datetime(1981, 9, 28, 0, 0), 1250.0, 1400.0, 30)\n",
      "(7698, 'BLAKE', 'MANAGER', 7839, datetime.datetime(1981, 5, 1, 0, 0), 2850.0, None, 30)\n",
      "(7782, 'CLARK', 'MANAGER', 7839, datetime.datetime(1981, 6, 9, 0, 0), 2450.0, None, 10)\n",
      "(7839, 'KING', 'PRESIDENT', None, datetime.datetime(1981, 11, 17, 0, 0), 5000.0, None, 10)\n",
      "(7844, 'TURNER', 'SALESMAN', 7698, datetime.datetime(1981, 9, 8, 0, 0), 1500.0, 0.0, 30)\n",
      "(7900, 'JAMES', 'CLERK', 7698, datetime.datetime(1981, 12, 3, 0, 0), 950.0, None, 30)\n",
      "(7902, 'FORD', 'ANALYST', 7566, datetime.datetime(1981, 12, 3, 0, 0), 3000.0, None, 20)\n",
      "(7934, 'MILLER', 'CLERK', 7782, datetime.datetime(1982, 1, 23, 0, 0), 1300.0, None, 10)\n"
     ]
    }
   ],
   "source": [
    "def read_data():\n",
    "    conn=oracledb.connect('scott/tiger@localhost:1521/xe')\n",
    "    cursor=conn.cursor()\n",
    "    sql=\"SELECT * FROM emp\"\n",
    "    cursor.execute(sql)\n",
    "    rows=cursor.fetchall()\n",
    "    for row in rows:\n",
    "        print(row)\n",
    "    conn.close()\n",
    "\n",
    "read_data()"
   ]
  }
 ],
 "metadata": {
  "kernelspec": {
   "display_name": "base",
   "language": "python",
   "name": "python3"
  },
  "language_info": {
   "codemirror_mode": {
    "name": "ipython",
    "version": 3
   },
   "file_extension": ".py",
   "mimetype": "text/x-python",
   "name": "python",
   "nbconvert_exporter": "python",
   "pygments_lexer": "ipython3",
   "version": "3.12.7"
  }
 },
 "nbformat": 4,
 "nbformat_minor": 2
}
