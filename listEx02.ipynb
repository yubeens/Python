{
 "cells": [
  {
   "cell_type": "code",
   "execution_count": 5,
   "metadata": {},
   "outputs": [
    {
     "name": "stdout",
     "output_type": "stream",
     "text": [
      "1 5\n",
      "[2, 3]\n",
      "[1, 3, 5]\n",
      "[5, 4, 3, 2, 1]\n"
     ]
    }
   ],
   "source": [
    "a=[1,2,3,4,5]\n",
    "b=[10,20,30,40,50]\n",
    "print(a[0],a[-1])\n",
    "print(a[1:3:1]) # start : end : step\n",
    "print(a[::2])\n",
    "print(a[::-1])"
   ]
  },
  {
   "cell_type": "code",
   "execution_count": 12,
   "metadata": {},
   "outputs": [
    {
     "name": "stdout",
     "output_type": "stream",
     "text": [
      "[100, 100, 3, 4, 5, 6, [7, 8], 9, 10, 6, [7, 8], 9, 10, 6, [7, 8], 9, 10, 6, [7, 8], 9, 10, 6, [7, 8], 9, 10, 6, [7, 8], 9, 10, 6]\n",
      "[100, 100, 3, 4, 5, 6, [7, 8], 9, 10, 6, [7, 8], 9, 10, 6, [7, 8], 9, 10, 6, [7, 8], 9, 10, 6, [7, 8], 9, 10, 6, [7, 8], 9, 10, 6, [7, 8]]\n",
      "[100, 100, 3, 4, 5, 6, [7, 8], 9, 10, 6, [7, 8], 9, 10, 6, [7, 8], 9, 10, 6, [7, 8], 9, 10, 6, [7, 8], 9, 10, 6, [7, 8], 9, 10, 6, [7, 8], 9, 10]\n",
      "[100, 100, 3, 4, 5, 6, [7, 8], 9, 10, 6, [7, 8], 9, 10, 6, [7, 8], 9, 10, 6, [7, 8], 9, 10, 6, [7, 8], 9, 10, 6, [7, 8], 9, 10, 6, [7, 8], 9, 10]\n",
      "[100, 3, 4, 5, 6, [7, 8], 9, 10, 6, [7, 8], 9, 10, 6, [7, 8], 9, 10, 6, [7, 8], 9, 10, 6, [7, 8], 9, 10, 6, [7, 8], 9, 10, 6, [7, 8], 9, 10]\n",
      "[100, 3, 4, 5, 6, [7, 8], 9, 10, 6, [7, 8], 9, 10, 6, [7, 8], 9, 10, 6, [7, 8], 9, 10, 6, [7, 8], 9, 10, 6, [7, 8], 9, 10, 6, [7, 8], 9, 10]\n",
      "[10, 9, [7, 8], 6, 10, 9, [7, 8], 6, 10, 9, [7, 8], 6, 10, 9, [7, 8], 6, 10, 9, [7, 8], 6, 10, 9, [7, 8], 6, 10, 9, [7, 8], 6, 5, 4, 3, 100]\n",
      "[10, 9, [7, 8], 6, 10, 9, [7, 8], 6, 10, 9, [7, 8], 6, 10, 9, [7, 8], 6, 10, 9, [7, 8], 6, 10, 9, [7, 8], 6, 10, 9, [7, 8], 6, 5, 4, 3, 100]\n"
     ]
    }
   ],
   "source": [
    "a.append(6)\n",
    "print(a)\n",
    "a.append([7,8])\n",
    "print(a)\n",
    "a.extend([9,10])\n",
    "print(a)\n",
    "#a.insert(1,100)\n",
    "print(a)\n",
    "del a[1]\n",
    "print(a)\n",
    "#a.remove(2)\n",
    "print(a)\n",
    "print(a[::-1])\n",
    "a.reverse()\n",
    "print(a)"
   ]
  },
  {
   "cell_type": "code",
   "execution_count": 15,
   "metadata": {},
   "outputs": [
    {
     "name": "stdout",
     "output_type": "stream",
     "text": [
      "[1, 2, 3, 4, 5]\n",
      "['aaa', 'abc', 'bbb', 'kkk']\n"
     ]
    }
   ],
   "source": [
    "a=[4,2,5,1,3]\n",
    "a.sort()\n",
    "print(a)\n",
    "s1=[\"abc\",\"kkk\",'bbb','aaa']\n",
    "s1.sort()\n",
    "print(s1)"
   ]
  },
  {
   "cell_type": "code",
   "execution_count": null,
   "metadata": {},
   "outputs": [
    {
     "name": "stdout",
     "output_type": "stream",
     "text": [
      "[10, 20, 30, 40, 50]\n",
      "50\n",
      "[10, 20, 30, 40]\n"
     ]
    }
   ],
   "source": [
    "b=[10,20,30,40,50]\n",
    "print(b)\n",
    "print(b.pop())\n",
    "print(b)\n",
    "print(b)"
   ]
  },
  {
   "cell_type": "code",
   "execution_count": 17,
   "metadata": {},
   "outputs": [
    {
     "name": "stdout",
     "output_type": "stream",
     "text": [
      "[10, 20, 30, 40, 10]\n",
      "2\n"
     ]
    }
   ],
   "source": [
    "b.append(10)\n",
    "print(b)\n",
    "print(b.count(10))"
   ]
  },
  {
   "cell_type": "code",
   "execution_count": 27,
   "metadata": {},
   "outputs": [],
   "source": [
    "a='''Tesla sales are in an unprecedented slide. Competitors are rapidly gaining ground. There’s a lot of bad news for Tesla lately – but it’s unclear if the politics of its polarizing CEO, Elon Musk, are to blame.\n",
    "What is known is that Tesla had its first-ever drop in global sales last year, as sales fell 1% from 2023. That wouldn’t be a huge decline for many other companies, but it is notable at a company that had recorded 38% and 40% increases in sales the previous two years – and with the massive growth in its share price over the past decade largely predicated on future growth.\n",
    "On a smaller time scale, Tesla did report a sharp drop 16% in US sales between December and January, but that is typical for the company, which seems to make a major push for year-end sales to hit its full-year financial results target, followed by a drop in January. Sales in January 2024, for instance, were off 24% from its December 2023 sales.\n",
    "But Tesla is facing a lot more than a CEO whose eyes have not only been on the federal government, but at least four other companies he’s involved in. And that makes it hard to blame any one element definitively for the company’s relatively rough seas.'''"
   ]
  },
  {
   "cell_type": "code",
   "execution_count": 28,
   "metadata": {},
   "outputs": [
    {
     "data": {
      "text/plain": [
       "['Tesla',\n",
       " 'sales',\n",
       " 'are',\n",
       " 'in',\n",
       " 'an',\n",
       " 'unprecedented',\n",
       " 'slide.',\n",
       " 'Competitors',\n",
       " 'are',\n",
       " 'rapidly',\n",
       " 'gaining',\n",
       " 'ground.',\n",
       " 'There’s',\n",
       " 'a',\n",
       " 'lot',\n",
       " 'of',\n",
       " 'bad',\n",
       " 'news',\n",
       " 'for',\n",
       " 'Tesla',\n",
       " 'lately',\n",
       " '–',\n",
       " 'but',\n",
       " 'it’s',\n",
       " 'unclear',\n",
       " 'if',\n",
       " 'the',\n",
       " 'politics',\n",
       " 'of',\n",
       " 'its',\n",
       " 'polarizing',\n",
       " 'CEO,',\n",
       " 'Elon',\n",
       " 'Musk,',\n",
       " 'are',\n",
       " 'to',\n",
       " 'blame.',\n",
       " 'What',\n",
       " 'is',\n",
       " 'known',\n",
       " 'is',\n",
       " 'that',\n",
       " 'Tesla',\n",
       " 'had',\n",
       " 'its',\n",
       " 'first-ever',\n",
       " 'drop',\n",
       " 'in',\n",
       " 'global',\n",
       " 'sales',\n",
       " 'last',\n",
       " 'year,',\n",
       " 'as',\n",
       " 'sales',\n",
       " 'fell',\n",
       " '1%',\n",
       " 'from',\n",
       " '2023.',\n",
       " 'That',\n",
       " 'wouldn’t',\n",
       " 'be',\n",
       " 'a',\n",
       " 'huge',\n",
       " 'decline',\n",
       " 'for',\n",
       " 'many',\n",
       " 'other',\n",
       " 'companies,',\n",
       " 'but',\n",
       " 'it',\n",
       " 'is',\n",
       " 'notable',\n",
       " 'at',\n",
       " 'a',\n",
       " 'company',\n",
       " 'that',\n",
       " 'had',\n",
       " 'recorded',\n",
       " '38%',\n",
       " 'and',\n",
       " '40%',\n",
       " 'increases',\n",
       " 'in',\n",
       " 'sales',\n",
       " 'the',\n",
       " 'previous',\n",
       " 'two',\n",
       " 'years',\n",
       " '–',\n",
       " 'and',\n",
       " 'with',\n",
       " 'the',\n",
       " 'massive',\n",
       " 'growth',\n",
       " 'in',\n",
       " 'its',\n",
       " 'share',\n",
       " 'price',\n",
       " 'over',\n",
       " 'the',\n",
       " 'past',\n",
       " 'decade',\n",
       " 'largely',\n",
       " 'predicated',\n",
       " 'on',\n",
       " 'future',\n",
       " 'growth.',\n",
       " 'On',\n",
       " 'a',\n",
       " 'smaller',\n",
       " 'time',\n",
       " 'scale,',\n",
       " 'Tesla',\n",
       " 'did',\n",
       " 'report',\n",
       " 'a',\n",
       " 'sharp',\n",
       " 'drop',\n",
       " '16%',\n",
       " 'in',\n",
       " 'US',\n",
       " 'sales',\n",
       " 'between',\n",
       " 'December',\n",
       " 'and',\n",
       " 'January,',\n",
       " 'but',\n",
       " 'that',\n",
       " 'is',\n",
       " 'typical',\n",
       " 'for',\n",
       " 'the',\n",
       " 'company,',\n",
       " 'which',\n",
       " 'seems',\n",
       " 'to',\n",
       " 'make',\n",
       " 'a',\n",
       " 'major',\n",
       " 'push',\n",
       " 'for',\n",
       " 'year-end',\n",
       " 'sales',\n",
       " 'to',\n",
       " 'hit',\n",
       " 'its',\n",
       " 'full-year',\n",
       " 'financial',\n",
       " 'results',\n",
       " 'target,',\n",
       " 'followed',\n",
       " 'by',\n",
       " 'a',\n",
       " 'drop',\n",
       " 'in',\n",
       " 'January.',\n",
       " 'Sales',\n",
       " 'in',\n",
       " 'January',\n",
       " '2024,',\n",
       " 'for',\n",
       " 'instance,',\n",
       " 'were',\n",
       " 'off',\n",
       " '24%',\n",
       " 'from',\n",
       " 'its',\n",
       " 'December',\n",
       " '2023',\n",
       " 'sales.',\n",
       " 'But',\n",
       " 'Tesla',\n",
       " 'is',\n",
       " 'facing',\n",
       " 'a',\n",
       " 'lot',\n",
       " 'more',\n",
       " 'than',\n",
       " 'a',\n",
       " 'CEO',\n",
       " 'whose',\n",
       " 'eyes',\n",
       " 'have',\n",
       " 'not',\n",
       " 'only',\n",
       " 'been',\n",
       " 'on',\n",
       " 'the',\n",
       " 'federal',\n",
       " 'government,',\n",
       " 'but',\n",
       " 'at',\n",
       " 'least',\n",
       " 'four',\n",
       " 'other',\n",
       " 'companies',\n",
       " 'he’s',\n",
       " 'involved',\n",
       " 'in.',\n",
       " 'And',\n",
       " 'that',\n",
       " 'makes',\n",
       " 'it',\n",
       " 'hard',\n",
       " 'to',\n",
       " 'blame',\n",
       " 'any',\n",
       " 'one',\n",
       " 'element',\n",
       " 'definitively',\n",
       " 'for',\n",
       " 'the',\n",
       " 'company’s',\n",
       " 'relatively',\n",
       " 'rough',\n",
       " 'seas.']"
      ]
     },
     "execution_count": 28,
     "metadata": {},
     "output_type": "execute_result"
    }
   ],
   "source": [
    "arr=a.split()\n",
    "arr"
   ]
  },
  {
   "cell_type": "code",
   "execution_count": 29,
   "metadata": {},
   "outputs": [
    {
     "name": "stdout",
     "output_type": "stream",
     "text": [
      "5\n"
     ]
    }
   ],
   "source": [
    "number=arr.count('Tesla')\n",
    "print(number)"
   ]
  },
  {
   "cell_type": "code",
   "execution_count": null,
   "metadata": {},
   "outputs": [],
   "source": []
  }
 ],
 "metadata": {
  "kernelspec": {
   "display_name": "base",
   "language": "python",
   "name": "python3"
  },
  "language_info": {
   "codemirror_mode": {
    "name": "ipython",
    "version": 3
   },
   "file_extension": ".py",
   "mimetype": "text/x-python",
   "name": "python",
   "nbconvert_exporter": "python",
   "pygments_lexer": "ipython3",
   "version": "3.12.7"
  }
 },
 "nbformat": 4,
 "nbformat_minor": 2
}
