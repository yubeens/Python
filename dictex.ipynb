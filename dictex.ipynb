{
 "cells": [
  {
   "cell_type": "code",
   "execution_count": null,
   "metadata": {},
   "outputs": [],
   "source": [
    "# {} 중괄호로 쌈\n",
    "# 요소는 키와 밸류로 나뉘어서, key:value의 형태로 작성해야 함\n",
    "dic={'name': \"홍길동\",'phone': '010-1234-5678','birth':'1118'}"
   ]
  },
  {
   "cell_type": "code",
   "execution_count": null,
   "metadata": {},
   "outputs": [
    {
     "name": "stdout",
     "output_type": "stream",
     "text": [
      "{'name': '홍길동', 'phone': '010-1234-5678', 'birth': '1118'}\n",
      "홍길동\n",
      "010-1234-5678\n",
      "1118\n"
     ]
    }
   ],
   "source": [
    "# 딕셔너리 요소 불러오는 법\n",
    "print(dic)\n",
    "print(dic['name'])\n",
    "print(dic['phone'])\n",
    "print(dic['birth'])"
   ]
  },
  {
   "cell_type": "code",
   "execution_count": null,
   "metadata": {},
   "outputs": [
    {
     "name": "stdout",
     "output_type": "stream",
     "text": [
      "{'name': '홍길동', 'phone': '010-1234-5678', 'birth': '1118', 'gender': '남자', 'age': 20}\n"
     ]
    }
   ],
   "source": [
    "# 딕셔너리 요소 삽입하는 법\n",
    "dic['gender']='남자'\n",
    "dic['age']=20\n",
    "print(dic)"
   ]
  },
  {
   "cell_type": "code",
   "execution_count": null,
   "metadata": {},
   "outputs": [
    {
     "name": "stdout",
     "output_type": "stream",
     "text": [
      "{'name': '홍길동', 'phone': '010-1234-5678', 'birth': '1118', 'gender': '남자'}\n"
     ]
    }
   ],
   "source": [
    "# 딕셔너리 요소 삭제하는 법\n",
    "del dic['age']\n",
    "print(dic)"
   ]
  },
  {
   "cell_type": "code",
   "execution_count": 6,
   "metadata": {},
   "outputs": [
    {
     "name": "stdout",
     "output_type": "stream",
     "text": [
      "dict_keys(['name', 'phone', 'birth', 'gender'])\n",
      "dict_values(['홍길동', '010-1234-5678', '1118', '남자'])\n"
     ]
    }
   ],
   "source": [
    "print(dic.keys())\n",
    "print(dic.values())"
   ]
  },
  {
   "cell_type": "code",
   "execution_count": 7,
   "metadata": {},
   "outputs": [
    {
     "name": "stdout",
     "output_type": "stream",
     "text": [
      "{'name': '김길동', 'phone': '010-1234-5678', 'birth': '1118', 'gender': '남자'}\n"
     ]
    }
   ],
   "source": [
    "dic['name']='김길동'\n",
    "print(dic)"
   ]
  },
  {
   "cell_type": "code",
   "execution_count": null,
   "metadata": {},
   "outputs": [
    {
     "name": "stdout",
     "output_type": "stream",
     "text": [
      "{1: 'bbc'}\n"
     ]
    }
   ],
   "source": [
    "d1={1:\"abc\",1:\"bbc\"} # 키가 중복되면 마지막 값으로 덮어씌워짐\n",
    "print(d1)"
   ]
  },
  {
   "cell_type": "code",
   "execution_count": null,
   "metadata": {},
   "outputs": [
    {
     "data": {
      "text/plain": [
       "{1: 'h1', 2: 'hi'}"
      ]
     },
     "execution_count": 11,
     "metadata": {},
     "output_type": "execute_result"
    }
   ],
   "source": [
    "d2={1:\"h1\",2:\"hi\"} # 키가 중복되지 않으면 그대로 출력\n",
    "d2"
   ]
  },
  {
   "cell_type": "code",
   "execution_count": null,
   "metadata": {},
   "outputs": [
    {
     "name": "stdout",
     "output_type": "stream",
     "text": [
      "dict_items([('name', '김길동'), ('phone', '010-1234-5678'), ('birth', '1118'), ('gender', '남자')])\n"
     ]
    }
   ],
   "source": [
    "result=dic.items() # 키와 밸류를 튜플로 묶어서 출력\n",
    "print(result)"
   ]
  },
  {
   "cell_type": "code",
   "execution_count": null,
   "metadata": {},
   "outputs": [
    {
     "name": "stdout",
     "output_type": "stream",
     "text": [
      "('name', '김길동')\n",
      "('phone', '010-1234-5678')\n",
      "('birth', '1118')\n",
      "('gender', '남자')\n"
     ]
    }
   ],
   "source": [
    "for i in result: \n",
    "    print(i) "
   ]
  },
  {
   "cell_type": "code",
   "execution_count": 16,
   "metadata": {},
   "outputs": [
    {
     "name": "stdout",
     "output_type": "stream",
     "text": [
      "name : 김길동\n",
      "phone : 010-1234-5678\n",
      "birth : 1118\n",
      "gender : 남자\n"
     ]
    }
   ],
   "source": [
    "for k,v in result:\n",
    "    print(k,':',v)"
   ]
  },
  {
   "cell_type": "code",
   "execution_count": 17,
   "metadata": {},
   "outputs": [
    {
     "name": "stdout",
     "output_type": "stream",
     "text": [
      "1 2 3\n"
     ]
    }
   ],
   "source": [
    "t=(1,2,3)\n",
    "a,b,c=t\n",
    "print(a,b,c)"
   ]
  },
  {
   "cell_type": "markdown",
   "metadata": {},
   "source": [
    "변수가 1개면 튜플 전체를 i에 저장하고\n",
    "변수가 2개면 튜플에 key값이랑 value랑 나눠야한다."
   ]
  },
  {
   "cell_type": "code",
   "execution_count": null,
   "metadata": {},
   "outputs": [
    {
     "data": {
      "text/plain": [
       "dict_items([('name', '김길동'), ('phone', '010-1234-5678'), ('birth', '1118'), ('gender', '남자')])"
      ]
     },
     "execution_count": 18,
     "metadata": {},
     "output_type": "execute_result"
    }
   ],
   "source": [
    "dic.keys() # 키만 출력\n",
    "dic.values() # 밸류만 출력\n",
    "dic.items() # 키와 밸류를 튜플로 묶어서 출력\n",
    "\n",
    "dic['name']\n",
    "dic['age']=20 # 딕셔너리에 요소 추가\n",
    "del dic['age'] # 딕셔너리에 요소 삭제\n",
    "dic.clear() # 딕셔너리 모두 삭제"
   ]
  },
  {
   "cell_type": "markdown",
   "metadata": {},
   "source": [
    "1. 학생 5명의 이름과 점수로 dict를 생성하라\n",
    "2. dict의 key를 모두 추출하라\n",
    "3. dict의 value를 모두 추출하라\n",
    "4. 본인의 이름과 점수를 사용하여 새로운 데이터를 추가하라\n",
    "5. 딕셔너리의 모든 item을 key와 value로 쌍의 tuple을 생성하라\n",
    "6. for문을 이용하여 key, value형태로 모든 item을 출력하라\n",
    "6. 본인의 이름으로 추가된 데이터를 삭제하라."
   ]
  },
  {
   "cell_type": "code",
   "execution_count": 25,
   "metadata": {},
   "outputs": [
    {
     "name": "stdout",
     "output_type": "stream",
     "text": [
      "{'정현민': 85, '조유빈': 80, '이준목': 75, '김태영': 90, '박영광': 95}\n",
      "dict_keys(['정현민', '조유빈', '이준목', '김태영', '박영광', '박경미'])\n",
      "dict_values([85, 80, 75, 90, 95, 65])\n",
      "dict_items([('정현민', 85), ('조유빈', 80), ('이준목', 75), ('김태영', 90), ('박영광', 95), ('박경미', 65)])\n",
      "정현민 : 85\n",
      "조유빈 : 80\n",
      "이준목 : 75\n",
      "김태영 : 90\n",
      "박영광 : 95\n",
      "박경미 : 65\n",
      "{'정현민': 85, '조유빈': 80, '이준목': 75, '김태영': 90, '박영광': 95}\n"
     ]
    }
   ],
   "source": [
    "scores={'정현민':85,'조유빈':80,'이준목':75,'김태영':90,'박영광':95} # 딕셔너리 생성\n",
    "print(scores)   # 딕셔너리 출력\n",
    "scores['박경미']=65 \n",
    "print(scores.keys())\n",
    "print(scores.values())\n",
    "result=scores.items()\n",
    "print(result)\n",
    "for k,v in result:\n",
    "    print(k,':',v)\n",
    "del scores['박경미']\n",
    "print(scores)\n",
    "\n",
    "\n",
    "\n"
   ]
  },
  {
   "cell_type": "code",
   "execution_count": 27,
   "metadata": {},
   "outputs": [
    {
     "data": {
      "text/plain": [
       "85"
      ]
     },
     "execution_count": 27,
     "metadata": {},
     "output_type": "execute_result"
    }
   ],
   "source": [
    "scores['김태영']\n",
    "scores['박영광']\n",
    "scores.get('정현민')"
   ]
  }
 ],
 "metadata": {
  "kernelspec": {
   "display_name": "base",
   "language": "python",
   "name": "python3"
  },
  "language_info": {
   "codemirror_mode": {
    "name": "ipython",
    "version": 3
   },
   "file_extension": ".py",
   "mimetype": "text/x-python",
   "name": "python",
   "nbconvert_exporter": "python",
   "pygments_lexer": "ipython3",
   "version": "3.12.7"
  }
 },
 "nbformat": 4,
 "nbformat_minor": 2
}
