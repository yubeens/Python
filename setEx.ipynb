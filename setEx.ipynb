{
 "cells": [
  {
   "cell_type": "code",
   "execution_count": 4,
   "metadata": {},
   "outputs": [
    {
     "data": {
      "text/plain": [
       "{1, 2, 3}"
      ]
     },
     "execution_count": 4,
     "metadata": {},
     "output_type": "execute_result"
    }
   ],
   "source": [
    "s1=set([1,2,3])\n",
    "s1\n",
    "s2={10,20,30}\n",
    "s2\n",
    "s3=set(\"Hello\")\n",
    "s3 \n",
    "s4=set((1,2,3,))\n",
    "s4"
   ]
  },
  {
   "cell_type": "markdown",
   "metadata": {},
   "source": [
    "합집합:, 교집합, 차집합"
   ]
  },
  {
   "cell_type": "code",
   "execution_count": null,
   "metadata": {},
   "outputs": [],
   "source": [
    "a={1,2,3,4}\n",
    "b={3,4,5,6} "
   ]
  },
  {
   "cell_type": "code",
   "execution_count": 17,
   "metadata": {},
   "outputs": [
    {
     "name": "stdout",
     "output_type": "stream",
     "text": [
      "{1, 2, 3, 4, 5, 6}\n",
      "{3, 4}\n",
      "{1, 2}\n",
      "{5, 6}\n",
      "{1, 2, 3, 4, 5, 6}\n",
      "{3, 4}\n",
      "{1, 2}\n",
      "{5, 6}\n"
     ]
    }
   ],
   "source": [
    "print(a | b) #합집합\n",
    "print(a & b) #교집합\n",
    "print(a - b) #차집합\n",
    "print(b - a) #차집합\n",
    "\n",
    "print(a.union(b)) #합집합\n",
    "print(a.intersection(b)) #교집합\n",
    "print(a.difference(b)) #차집합\n",
    "print(b.difference(a)) #차집합"
   ]
  },
  {
   "cell_type": "code",
   "execution_count": null,
   "metadata": {},
   "outputs": [
    {
     "data": {
      "text/plain": [
       "{2, 3, 4}"
      ]
     },
     "execution_count": 18,
     "metadata": {},
     "output_type": "execute_result"
    }
   ],
   "source": [
    "a.remove(1) #요소 제거\n",
    "a"
   ]
  },
  {
   "cell_type": "code",
   "execution_count": 19,
   "metadata": {},
   "outputs": [
    {
     "data": {
      "text/plain": [
       "{2, 3, 4, 7, 8, 9}"
      ]
     },
     "execution_count": 19,
     "metadata": {},
     "output_type": "execute_result"
    }
   ],
   "source": [
    "a.update([7,8,9]) #요소 추가\n",
    "a"
   ]
  },
  {
   "cell_type": "markdown",
   "metadata": {},
   "source": [
    "list : 순서가 있는 변경 가능한 자료형. 여러 값을 저장할 수 있으며, 인덱스를 통해 접근 가능.\n",
    "예: my_list = [1, 2, 3, 4]\n",
    "\n",
    "tuple : 순서가 있는 불변 자료형. 리스트와 비슷하지만, 한 번 생성하면 값을 변경할 수 없음.\n",
    "예: my_tuple = (1, 2, 3, 4)\n",
    "\n",
    "dictionary : 키-값 쌍으로 이루어진 자료형. 순서는 없고, 키를 사용해 값을 빠르게 검색할 수 있음.\n",
    "예: my_dict = {'name': 'John', 'age': 30}\n",
    "\n",
    "set : 순서가 없고 중복이 없는 자료형. 주로 중복 제거나 집합 연산에 사용.\n",
    "예: my_set = {1, 2, 3, 4}"
   ]
  },
  {
   "cell_type": "markdown",
   "metadata": {},
   "source": [
    "# bool 자료형"
   ]
  },
  {
   "cell_type": "code",
   "execution_count": null,
   "metadata": {},
   "outputs": [
    {
     "name": "stdout",
     "output_type": "stream",
     "text": [
      "bbb\n"
     ]
    }
   ],
   "source": [
    "if []: #False 데이터가 없음\n",
    "    print(\"aaa\")\n",
    "else: #True\n",
    "    print(\"bbb\")"
   ]
  },
  {
   "cell_type": "code",
   "execution_count": null,
   "metadata": {},
   "outputs": [
    {
     "name": "stdout",
     "output_type": "stream",
     "text": [
      "참\n"
     ]
    }
   ],
   "source": [
    "if 'python': #True 데이터가 있음\n",
    "    print(\"참\")\n",
    "else: #False\n",
    "    print(\"거짓\")   "
   ]
  },
  {
   "cell_type": "code",
   "execution_count": 28,
   "metadata": {},
   "outputs": [
    {
     "name": "stdout",
     "output_type": "stream",
     "text": [
      "참\n"
     ]
    }
   ],
   "source": [
    "if 1:\n",
    "    print(\"참\")\n",
    "else:\n",
    "    print(\"거짓\")"
   ]
  },
  {
   "cell_type": "code",
   "execution_count": 29,
   "metadata": {},
   "outputs": [
    {
     "name": "stdout",
     "output_type": "stream",
     "text": [
      "거짓\n"
     ]
    }
   ],
   "source": [
    "if 0:\n",
    "    print(\"참\")\n",
    "else:\n",
    "    print(\"거짓\")"
   ]
  },
  {
   "cell_type": "markdown",
   "metadata": {},
   "source": [
    "# 변수, 자료형"
   ]
  },
  {
   "cell_type": "code",
   "execution_count": 36,
   "metadata": {},
   "outputs": [
    {
     "name": "stdout",
     "output_type": "stream",
     "text": [
      "<class 'int'>\n",
      "<class 'str'>\n",
      "<class 'list'>\n",
      "<class 'tuple'>\n",
      "<class 'dict'>\n"
     ]
    }
   ],
   "source": [
    "a=1\n",
    "b='Python'\n",
    "c=[1,2,3]\n",
    "d=(1,2,3)\n",
    "e={'name':'홍길동','age':30,'gender':'남'}\n",
    "\n",
    "print(type(a))\n",
    "print(type(b))\n",
    "print(type(c))\n",
    "print(type(d))\n",
    "print(type(e))"
   ]
  },
  {
   "cell_type": "code",
   "execution_count": null,
   "metadata": {},
   "outputs": [
    {
     "name": "stdout",
     "output_type": "stream",
     "text": [
      "140711416834488\n",
      "140711415919216\n",
      "1714582542464\n",
      "1714568308416\n",
      "1714582902848\n",
      "140711416834488\n"
     ]
    }
   ],
   "source": [
    "#id() 함수는 객체의 주소를 반환\n",
    "print(id(a))\n",
    "print(id(b))\n",
    "print(id(c))\n",
    "print(id(d))\n",
    "print(id(e))\n",
    "print(id(c[0])) #리스트의 첫번째 요소의 주소"
   ]
  },
  {
   "cell_type": "code",
   "execution_count": 42,
   "metadata": {},
   "outputs": [],
   "source": [
    "a=[1,2,3]\n",
    "b=a"
   ]
  },
  {
   "cell_type": "code",
   "execution_count": 43,
   "metadata": {},
   "outputs": [
    {
     "data": {
      "text/plain": [
       "True"
      ]
     },
     "execution_count": 43,
     "metadata": {},
     "output_type": "execute_result"
    }
   ],
   "source": [
    "a is b"
   ]
  },
  {
   "cell_type": "code",
   "execution_count": 46,
   "metadata": {},
   "outputs": [
    {
     "name": "stdout",
     "output_type": "stream",
     "text": [
      "[1, 4, 3]\n",
      "[1, 4, 3]\n"
     ]
    }
   ],
   "source": [
    "a[1]=4\n",
    "print(a)\n",
    "print(b)"
   ]
  },
  {
   "cell_type": "code",
   "execution_count": 54,
   "metadata": {},
   "outputs": [
    {
     "name": "stdout",
     "output_type": "stream",
     "text": [
      "[1, 4, 3]\n",
      "[1, 4, 3]\n",
      "1714582544384\n",
      "1714568125568\n",
      "[1, 4, 3]\n",
      "[1, 5, 3]\n"
     ]
    }
   ],
   "source": [
    "# %%\n",
    "print(a)\n",
    "\n",
    "# a의 데이터를 모두 가져와 새로운 주소로 저장하려면\n",
    "c=a[:]\n",
    "\n",
    "#값은 a와 같지만\n",
    "print(c)\n",
    "\n",
    "# 주소값이 다르다는 것을 확인가능\n",
    "print(id(a))\n",
    "print(id(c))\n",
    "\n",
    "# 때문에 c의 인덱스 값을 하나 바꾸면 c만 바뀌는 것을 확인가능\n",
    "c[1] = 5\n",
    "print(a)\n",
    "print(c)"
   ]
  },
  {
   "cell_type": "code",
   "execution_count": 53,
   "metadata": {},
   "outputs": [
    {
     "data": {
      "text/plain": [
       "False"
      ]
     },
     "execution_count": 53,
     "metadata": {},
     "output_type": "execute_result"
    }
   ],
   "source": [
    "from copy import copy\n",
    "d=copy(a) #리스트를 새로 만듬\n",
    "a is d"
   ]
  },
  {
   "cell_type": "markdown",
   "metadata": {},
   "source": [
    "list\n",
    "변수 = [요소1, 요소2...]\n",
    "\n",
    "tuple\n",
    "변수 = (요소1, 요소2...)\n",
    "\n",
    "dictionaly (dict)\n",
    "변수 = {key1 : value1,...}\n",
    "\n",
    "set\n",
    "변수 = {요소1, 요소2...}"
   ]
  }
 ],
 "metadata": {
  "kernelspec": {
   "display_name": "base",
   "language": "python",
   "name": "python3"
  },
  "language_info": {
   "codemirror_mode": {
    "name": "ipython",
    "version": 3
   },
   "file_extension": ".py",
   "mimetype": "text/x-python",
   "name": "python",
   "nbconvert_exporter": "python",
   "pygments_lexer": "ipython3",
   "version": "3.12.7"
  }
 },
 "nbformat": 4,
 "nbformat_minor": 2
}
