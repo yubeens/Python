{
 "cells": [
  {
   "cell_type": "code",
   "execution_count": 1,
   "metadata": {},
   "outputs": [
    {
     "data": {
      "text/plain": [
       "[1, 2, 3]"
      ]
     },
     "execution_count": 1,
     "metadata": {},
     "output_type": "execute_result"
    }
   ],
   "source": [
    "a=[1,2,3]\n",
    "a"
   ]
  },
  {
   "cell_type": "code",
   "execution_count": 3,
   "metadata": {},
   "outputs": [
    {
     "name": "stdout",
     "output_type": "stream",
     "text": [
      "1\n",
      "2\n",
      "4\n"
     ]
    },
    {
     "data": {
      "text/plain": [
       "[100, 2, 3]"
      ]
     },
     "execution_count": 3,
     "metadata": {},
     "output_type": "execute_result"
    }
   ],
   "source": [
    "print(a[0])\n",
    "print(a[1])\n",
    "print(a[0]+a[2])\n",
    "a[0]=100\n",
    "a"
   ]
  },
  {
   "cell_type": "code",
   "execution_count": 5,
   "metadata": {},
   "outputs": [
    {
     "name": "stdout",
     "output_type": "stream",
     "text": [
      "3\n",
      "5\n"
     ]
    }
   ],
   "source": [
    "print(a[-1]) #맨 마지막 요소\n",
    "b=[1,2,3,4,5]\n",
    "print(b[-1])\n"
   ]
  },
  {
   "cell_type": "code",
   "execution_count": 8,
   "metadata": {},
   "outputs": [
    {
     "name": "stdout",
     "output_type": "stream",
     "text": [
      "1\n",
      "2\n",
      "가나다\n",
      "[10, 20, 30]\n",
      "10\n"
     ]
    }
   ],
   "source": [
    "a=[1,2,3,\"가나다\",[10,20,30]]\n",
    "print(a[0])\n",
    "print(a[1])\n",
    "print(a[3])\n",
    "print(a[4])\n",
    "print(a[4][0]) \n"
   ]
  },
  {
   "cell_type": "code",
   "execution_count": 9,
   "metadata": {},
   "outputs": [
    {
     "name": "stdout",
     "output_type": "stream",
     "text": [
      "[1, 2, 3, '가나다', 'python']\n"
     ]
    }
   ],
   "source": [
    "a[4]=\"python\"\n",
    "print(a)"
   ]
  },
  {
   "cell_type": "code",
   "execution_count": 14,
   "metadata": {},
   "outputs": [
    {
     "name": "stdout",
     "output_type": "stream",
     "text": [
      "[1, 2, 3]\n",
      "[1, 3, 5]\n",
      "[5, 4, 3, 2, 1]\n",
      "[3, 4, 5]\n"
     ]
    }
   ],
   "source": [
    "a=[1,2,3,4,5]\n",
    "print(a[0:3])\n",
    "print(a[::2]) #2칸씩 띄어서 출력\n",
    "print(a[::-1]) #역순으로 출력\n",
    "print(a[2:])"
   ]
  },
  {
   "cell_type": "code",
   "execution_count": 25,
   "metadata": {},
   "outputs": [
    {
     "name": "stdout",
     "output_type": "stream",
     "text": [
      "[1, 2, 3, 4, 5, 1, 2, 3, 4, 5, 1, 2, 3, 4, 5]\n",
      "[1, 2, 3, 4, 5, 10, 20, 30, 40, 50]\n",
      "5\n",
      "['a', 'b', 'c', 'd']\n",
      "a-b-c-d\n"
     ]
    }
   ],
   "source": [
    "b=[10,20,30,40,50]\n",
    "print(a*3) #리스트 반복\n",
    "print(a+b)\n",
    "print(len(a)) #리스트 길이\n",
    "str1=\"abcd\"\n",
    "arr=list(str1) #문자열을 리스트로 변환\n",
    "print(arr)\n",
    "str2='-'.join(arr) #리스트를 문자열로 변환\n",
    "print(str2)"
   ]
  },
  {
   "cell_type": "code",
   "execution_count": 28,
   "metadata": {},
   "outputs": [
    {
     "name": "stdout",
     "output_type": "stream",
     "text": [
      "[1, 2, 3]\n",
      "[1, 2]\n"
     ]
    }
   ],
   "source": [
    "del a[3:] #리스트 요소 삭제 (3부터 끝까지)\n",
    "print(a)\n",
    "del a[2] #리스트 요소 삭제 (0,1,(2번째))\n",
    "print(a)"
   ]
  },
  {
   "cell_type": "code",
   "execution_count": 32,
   "metadata": {},
   "outputs": [
    {
     "name": "stdout",
     "output_type": "stream",
     "text": [
      "[1, 2, 10, 20, 10, 20, [100, 200], 10, 20, [100, 200], 300, 400, 10]\n",
      "[1, 2, 10, 20, 10, 20, [100, 200], 10, 20, [100, 200], 300, 400, 10, 20]\n",
      "[1, 2, 10, 20, 10, 20, [100, 200], 10, 20, [100, 200], 300, 400, 10, 20, [100, 200]]\n",
      "[1, 2, 10, 20, 10, 20, [100, 200], 10, 20, [100, 200], 300, 400, 10, 20, [100, 200], 300, 400]\n",
      "[1, 500, 2, 10, 20, 10, 20, [100, 200], 10, 20, [100, 200], 300, 400, 10, 20, [100, 200], 300, 400]\n"
     ]
    }
   ],
   "source": [
    "a.append(10) #리스트에 요소 추가\n",
    "print(a)\n",
    "a.append(20)\n",
    "print(a)\n",
    "a.append([100,200]) #리스트에 리스트 추가 (리스트 안에 리스트)\n",
    "print(a)\n",
    "a.extend([300,400]) #리스트에 리스트 추가 (리스트 안에 리스트가 아닌 요소로 추가)\n",
    "print(a)\n",
    "a.insert(1,500) #리스트에 요소 추가 (1번째에 500 추가)\n",
    "print(a)"
   ]
  },
  {
   "cell_type": "code",
   "execution_count": 51,
   "metadata": {},
   "outputs": [
    {
     "name": "stdout",
     "output_type": "stream",
     "text": [
      "[500, 10, 20, [100, 200], 10, 20, [100, 200], 400, 10, 20, [100, 200], 300, 400]\n"
     ]
    }
   ],
   "source": [
    "a.remove(300) #리스트 요소 삭제 (1 (값)삭제)\n",
    "print(a)\n"
   ]
  },
  {
   "cell_type": "code",
   "execution_count": 46,
   "metadata": {},
   "outputs": [
    {
     "name": "stdout",
     "output_type": "stream",
     "text": [
      "[500, 10, 20, [100, 200], 10, 20, [100, 200], 300, 400, 10, 20, [100, 200], 300, 400]\n"
     ]
    }
   ],
   "source": [
    "del a[1] #리스트 인덱스 요소 삭제 (1번째 요소 삭제)\n",
    "print(a)"
   ]
  }
 ],
 "metadata": {
  "kernelspec": {
   "display_name": "Python 3",
   "language": "python",
   "name": "python3"
  },
  "language_info": {
   "codemirror_mode": {
    "name": "ipython",
    "version": 3
   },
   "file_extension": ".py",
   "mimetype": "text/x-python",
   "name": "python",
   "nbconvert_exporter": "python",
   "pygments_lexer": "ipython3",
   "version": "3.12.7"
  }
 },
 "nbformat": 4,
 "nbformat_minor": 2
}
