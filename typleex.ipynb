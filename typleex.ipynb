{
 "cells": [
  {
   "cell_type": "code",
   "execution_count": null,
   "metadata": {},
   "outputs": [
    {
     "name": "stdout",
     "output_type": "stream",
     "text": [
      "()\n",
      "(1,)\n",
      "(1, 2, 3)\n",
      "(1, 2, 3, 4)\n",
      "(1, 2, 3, ('ab', 'cd'))\n"
     ]
    }
   ],
   "source": [
    "t1=()\n",
    "t2=(1,)\n",
    "t3=(1,2,3)\n",
    "t4=1,2,3,4\n",
    "t5=(1,2,3,('ab','cd')) \n",
    "print(t1)\n",
    "print(t2)\n",
    "print(t3)\n",
    "print(t4)\n",
    "print(t5)"
   ]
  },
  {
   "cell_type": "code",
   "execution_count": null,
   "metadata": {},
   "outputs": [],
   "source": [
    "#t5[0]=100 #투플은 요소의 값을 변경할 수 없다.\n",
    "t1.append(10) #투플은 요소를 추가할 수 없다.\n",
    "t5.remove(1) # 오류발생\n",
    "del t5[1] # 오류발생 // 모두 튜플의 내용을 수정 할 수 없음"
   ]
  },
  {
   "cell_type": "code",
   "execution_count": 4,
   "metadata": {},
   "outputs": [
    {
     "name": "stdout",
     "output_type": "stream",
     "text": [
      "(1, 2, 3, 1, 2, 3, ('ab', 'cd'))\n",
      "1 2 ('ab', 'cd')\n",
      "(1, 3, 2, ('ab', 'cd'))\n"
     ]
    }
   ],
   "source": [
    "t=t3+t5\n",
    "print(t)\n",
    "print(t[0],t[1],t[-1])\n",
    "print(t[::2])"
   ]
  },
  {
   "cell_type": "code",
   "execution_count": 5,
   "metadata": {},
   "outputs": [
    {
     "name": "stdout",
     "output_type": "stream",
     "text": [
      "(1, 2, 3, ('ab', 'cd'), 1, 2, 3, ('ab', 'cd'))\n",
      "4\n"
     ]
    }
   ],
   "source": [
    "print(t5*2)\n",
    "print(len(t5))\n"
   ]
  },
  {
   "cell_type": "code",
   "execution_count": 6,
   "metadata": {},
   "outputs": [
    {
     "data": {
      "text/plain": [
       "2"
      ]
     },
     "execution_count": 6,
     "metadata": {},
     "output_type": "execute_result"
    }
   ],
   "source": [
    "t.count(1)"
   ]
  }
 ],
 "metadata": {
  "kernelspec": {
   "display_name": "base",
   "language": "python",
   "name": "python3"
  },
  "language_info": {
   "codemirror_mode": {
    "name": "ipython",
    "version": 3
   },
   "file_extension": ".py",
   "mimetype": "text/x-python",
   "name": "python",
   "nbconvert_exporter": "python",
   "pygments_lexer": "ipython3",
   "version": "3.12.7"
  }
 },
 "nbformat": 4,
 "nbformat_minor": 2
}
