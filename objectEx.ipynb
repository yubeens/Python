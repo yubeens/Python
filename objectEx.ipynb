{
 "cells": [
  {
   "cell_type": "markdown",
   "metadata": {},
   "source": [
    "# 클래스와 객체"
   ]
  },
  {
   "cell_type": "code",
   "execution_count": null,
   "metadata": {},
   "outputs": [],
   "source": [
    "class FourCal(object):\n",
    "\n",
    "    def __init__(self,num1,num2):   #__init__ : 생성자 > 객체가 생성될 때 자동으로 호출\n",
    "        self.num1 = num1\n",
    "        self.num2 = num2\n",
    "\n",
    "    def __str__(self):  #__str__ : tostring과 같은 역할 \n",
    "        return f'{self.num1}과 {self.num2}는 멤버 변수입니다'\n",
    "        \n",
    "    def setData(self,num1,num2):    #self는 객체 자신을 가리킴(this 같은 역할)\n",
    "        self.num1 = num1\n",
    "        self.num2 = num2\n",
    "\n",
    "    def add(self):  #add : 더하기\n",
    "        result=self.num1 + self.num2\n",
    "        return result\n",
    "    \n",
    "    def sub(self): #sub : 빼기\n",
    "        result=self.num1 - self.num2\n",
    "        return result\n",
    "    \n",
    "    def mul(self):  #mul : 곱하기\n",
    "        result=self.num1 * self.num2\n",
    "        return result\n",
    "    \n",
    "    def div(self): #div : 나누기\n",
    "        result=self.num1 / self.num2\n",
    "        return result"
   ]
  },
  {
   "cell_type": "code",
   "execution_count": 15,
   "metadata": {},
   "outputs": [
    {
     "name": "stdout",
     "output_type": "stream",
     "text": [
      "15과 5는 멤버 변수입니다\n",
      "20\n",
      "10\n",
      "75\n",
      "3.0\n"
     ]
    }
   ],
   "source": [
    "a=FourCal(4,2) #FourCal 클래스의 객체 a 생성\n",
    "a.setData(15,5) #a 객체의 setData 메서드 호출\n",
    "print(a) \n",
    "print(a.add())\n",
    "print(a.sub())\n",
    "print(a.mul())\n",
    "print(a.div())\n"
   ]
  },
  {
   "cell_type": "code",
   "execution_count": 6,
   "metadata": {},
   "outputs": [
    {
     "data": {
      "text/plain": [
       "12"
      ]
     },
     "execution_count": 6,
     "metadata": {},
     "output_type": "execute_result"
    }
   ],
   "source": [
    "b=FourCal(10,2)  #객체 생성\n",
    "b.add()"
   ]
  },
  {
   "cell_type": "code",
   "execution_count": 16,
   "metadata": {},
   "outputs": [
    {
     "name": "stdout",
     "output_type": "stream",
     "text": [
      "10과 2는 멤버 변수입니다\n",
      "12\n",
      "8\n",
      "20\n",
      "5.0\n"
     ]
    }
   ],
   "source": [
    "b=FourCal(10,2) #FourCal 클래스의 객체 a 생성\n",
    "print(b)\n",
    "print(b.add())\n",
    "print(b.sub())\n",
    "print(b.mul())\n",
    "print(b.div())\n"
   ]
  },
  {
   "cell_type": "code",
   "execution_count": 22,
   "metadata": {},
   "outputs": [],
   "source": [
    "class SoccerPlayer(object):\n",
    "    def __init__(self,name,position,back_number):\n",
    "        self.name=name\n",
    "        self.position=position\n",
    "        self.back_number=back_number\n",
    "\n",
    "    def change_back_number(self,new_number):\n",
    "        print(f'선수의 등번호를 변경합니다 : From {self.back_number} to {new_number}')\n",
    "        self.back_number=new_number\n",
    "\n",
    "    def __str__(self):\n",
    "        return f'''My name is {self.name}.\n",
    "I play in {self.position} in center.\n",
    "My back number is {self.back_number}'''"
   ]
  },
  {
   "cell_type": "code",
   "execution_count": 23,
   "metadata": {},
   "outputs": [
    {
     "name": "stdout",
     "output_type": "stream",
     "text": [
      "My name is jinhyun.\n",
      "I play in MF in center.\n",
      "My back number is 10\n",
      "선수의 등번호를 변경합니다 : From 10 to 5\n",
      "My name is jinhyun.\n",
      "I play in MF in center.\n",
      "My back number is 5\n"
     ]
    }
   ],
   "source": [
    "jinhyun=SoccerPlayer('jinhyun','MF',10)\n",
    "print(jinhyun)\n",
    "jinhyun.change_back_number(5)\n",
    "print(jinhyun)"
   ]
  }
 ],
 "metadata": {
  "kernelspec": {
   "display_name": "base",
   "language": "python",
   "name": "python3"
  },
  "language_info": {
   "codemirror_mode": {
    "name": "ipython",
    "version": 3
   },
   "file_extension": ".py",
   "mimetype": "text/x-python",
   "name": "python",
   "nbconvert_exporter": "python",
   "pygments_lexer": "ipython3",
   "version": "3.12.7"
  }
 },
 "nbformat": 4,
 "nbformat_minor": 2
}
