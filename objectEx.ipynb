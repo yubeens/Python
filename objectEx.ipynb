{
 "cells": [
  {
   "cell_type": "markdown",
   "metadata": {},
   "source": [
    "# 클래스와 객체"
   ]
  },
  {
   "cell_type": "code",
   "execution_count": 35,
   "metadata": {},
   "outputs": [],
   "source": [
    "class FourCal(object):\n",
    "\n",
    "    def __init__(self,num1,num2):   #__init__ : 생성자 > 객체가 생성될 때 자동으로 호출\n",
    "        self.num1 = num1\n",
    "        self.num2 = num2\n",
    "\n",
    "    def __str__(self):  #__str__ : tostring과 같은 역할 \n",
    "        return f'{self.num1}과 {self.num2}는 멤버 변수입니다'\n",
    "        \n",
    "    def setData(self,num1,num2):    #self는 객체 자신을 가리킴(this 같은 역할)\n",
    "        self.num1 = num1\n",
    "        self.num2 = num2\n",
    "\n",
    "    def add(self):  #add : 더하기\n",
    "        result=self.num1 + self.num2\n",
    "        return result\n",
    "    \n",
    "    def sub(self): #sub : 빼기\n",
    "        result=self.num1 - self.num2\n",
    "        return result\n",
    "    \n",
    "    def mul(self):  #mul : 곱하기\n",
    "        result=self.num1 * self.num2\n",
    "        return result\n",
    "    \n",
    "    def div(self): #div : 나누기\n",
    "        result=self.num1 / self.num2\n",
    "        return result"
   ]
  },
  {
   "cell_type": "code",
   "execution_count": 36,
   "metadata": {},
   "outputs": [
    {
     "name": "stdout",
     "output_type": "stream",
     "text": [
      "15과 5는 멤버 변수입니다\n",
      "20\n",
      "10\n",
      "75\n",
      "3.0\n"
     ]
    }
   ],
   "source": [
    "a=FourCal(4,2) #FourCal 클래스의 객체 a 생성\n",
    "a.setData(15,5) #a 객체의 setData 메서드 호출\n",
    "print(a) \n",
    "print(a.add())\n",
    "print(a.sub())\n",
    "print(a.mul())\n",
    "print(a.div())\n"
   ]
  },
  {
   "cell_type": "code",
   "execution_count": 37,
   "metadata": {},
   "outputs": [
    {
     "data": {
      "text/plain": [
       "12"
      ]
     },
     "execution_count": 37,
     "metadata": {},
     "output_type": "execute_result"
    }
   ],
   "source": [
    "b=FourCal(10,2)  #객체 생성\n",
    "b.add()"
   ]
  },
  {
   "cell_type": "code",
   "execution_count": 38,
   "metadata": {},
   "outputs": [
    {
     "name": "stdout",
     "output_type": "stream",
     "text": [
      "10과 2는 멤버 변수입니다\n",
      "12\n",
      "8\n",
      "20\n",
      "5.0\n"
     ]
    }
   ],
   "source": [
    "b=FourCal(10,2) #FourCal 클래스의 객체 a 생성\n",
    "print(b)\n",
    "print(b.add())\n",
    "print(b.sub())\n",
    "print(b.mul())\n",
    "print(b.div())\n"
   ]
  },
  {
   "cell_type": "code",
   "execution_count": 39,
   "metadata": {},
   "outputs": [],
   "source": [
    "class SoccerPlayer(object):\n",
    "    def __init__(self,name,position,back_number):\n",
    "        self.name=name\n",
    "        self.position=position\n",
    "        self.back_number=back_number\n",
    "\n",
    "    def change_back_number(self,new_number):\n",
    "        print(f'선수의 등번호를 변경합니다 : From {self.back_number} to {new_number}')\n",
    "        self.back_number=new_number\n",
    "\n",
    "    def __str__(self):\n",
    "        return f'''My name is {self.name}.\n",
    "I play in {self.position} in center.\n",
    "My back number is {self.back_number}'''"
   ]
  },
  {
   "cell_type": "code",
   "execution_count": 40,
   "metadata": {},
   "outputs": [
    {
     "name": "stdout",
     "output_type": "stream",
     "text": [
      "My name is jinhyun.\n",
      "I play in MF in center.\n",
      "My back number is 10\n",
      "선수의 등번호를 변경합니다 : From 10 to 5\n",
      "My name is jinhyun.\n",
      "I play in MF in center.\n",
      "My back number is 5\n"
     ]
    }
   ],
   "source": [
    "jinhyun=SoccerPlayer('jinhyun','MF',10)\n",
    "print(jinhyun)\n",
    "jinhyun.change_back_number(5)\n",
    "print(jinhyun)"
   ]
  },
  {
   "cell_type": "code",
   "execution_count": 41,
   "metadata": {},
   "outputs": [],
   "source": [
    "class Student:\n",
    "    def __init__(self, sno, name, gender, major): #생성자\n",
    "        self.sno=sno\n",
    "        self.name=name\n",
    "        self.gender=gender\n",
    "        self.major=major\n",
    "\n",
    "    def change_major(self,major): #메소드 \n",
    "        self.major=major\n",
    "    \n",
    "    def __str__(self): #tostring\n",
    "        return f'''학번 : {self.sno} 이름 : {self.name} 성별 : {self.gender} 전공 : {self.major}'''\n",
    "        #return \"학번:%d, 이름:%s, 성별:%s, 전공:%s\" % (self.sno, self.name, self.gender, self.major)  #이렇게도 가능\n"
   ]
  },
  {
   "cell_type": "code",
   "execution_count": 42,
   "metadata": {},
   "outputs": [
    {
     "name": "stdout",
     "output_type": "stream",
     "text": [
      "학번 : 1 이름 : 김수현 성별 : 남자 전공 : 컴공\n",
      "학번 : 1 이름 : 김수현 성별 : 남자 전공 : 정보통신\n"
     ]
    }
   ],
   "source": [
    "kim=Student(1,\"김수현\",\"남자\",\"컴공\")\n",
    "print(kim)\n",
    "kim.change_major(\"정보통신\")\n",
    "print(kim)"
   ]
  },
  {
   "cell_type": "markdown",
   "metadata": {},
   "source": [
    "클래스 기능 설명\n",
    "학생 초기화:\n",
    "__init__ 메서드는 학생 객체를 생성하면서 bno(학번), name(이름), gender(성별), major(전공) 속성에 초기값을 설정합니다.\n",
    "\n",
    "학생 전공 변경:\n",
    "change_major 메서드를 사용하여 학생의 전공(major)을 변경할 수 있습니다. 또한, 전공이 변경되었음을 알려주는 메시지를 출력합니다.\n",
    "\n",
    "학생 정보 출력:\n",
    "__str__ 메서드는 Student 객체를 문자열로 표현하는 방식을 정의합니다. 이를 통해 print(kim)과 같은 명령을 사용할 때 학생의 세부 정보를 보기 쉽게 출력합니다.\n",
    "\n",
    "코드 실행 설명\n",
    "kim이라는 이름의 학생 객체를 생성하며 초기 값은 다음과 같습니다:\n",
    "학번(bno): 1, 이름(name): \"Kim\", 성별(gender): \"male\", 전공(major): \"CS\".\n",
    "\n",
    "print(kim)은 __str__ 메서드를 호출하여 kim의 초기 세부 정보를 출력합니다.\n",
    "kim.change_major(\"Math\")는 Kim의 전공을 \"Math\"로 변경하며, 변경 과정을 알리는 메시지를 출력합니다.\n",
    "이후 다시 print(kim)을 호출하면, 변경된 전공이 반영된 Kim의 세부 정보가 출력됩니다."
   ]
  },
  {
   "cell_type": "code",
   "execution_count": 43,
   "metadata": {},
   "outputs": [],
   "source": [
    "class MoreFourCal(FourCal):\n",
    "    def pow(self):\n",
    "        result=self.num1**self.num2\n",
    "\n",
    "    def div(self):\n",
    "        if self.num2==0:\n",
    "            return 0\n",
    "        else:\n",
    "            return self.num1/self.num2"
   ]
  },
  {
   "cell_type": "code",
   "execution_count": 44,
   "metadata": {},
   "outputs": [
    {
     "name": "stdout",
     "output_type": "stream",
     "text": [
      "4과 0는 멤버 변수입니다\n",
      "4\n",
      "4\n",
      "0\n",
      "0\n",
      "None\n"
     ]
    }
   ],
   "source": [
    "b=MoreFourCal(4,0)\n",
    "print(b)\n",
    "print(b.add())\n",
    "print(b.sub())\n",
    "print(b.mul())\n",
    "print(b.div())\n",
    "print(b.pow())"
   ]
  },
  {
   "cell_type": "code",
   "execution_count": 45,
   "metadata": {},
   "outputs": [],
   "source": [
    "class Person:\n",
    "    def __init__(self,name,age,gender):\n",
    "        self.name=name\n",
    "        self.age=age\n",
    "        self.gender=gender\n",
    "\n",
    "    def display(self):\n",
    "        print(f'이름 : {self.name}, 나이 : {self.age}, 성별 : {self.gender}')"
   ]
  },
  {
   "cell_type": "code",
   "execution_count": 46,
   "metadata": {},
   "outputs": [],
   "source": [
    "class Employee(Person):\n",
    "    def __init__(self,eno,name,age,gender,dept,sal):\n",
    "        super().__init__(name,age,gender)\n",
    "        self.eno=eno\n",
    "        self.dept=dept\n",
    "        self.sal=sal\n",
    "\n",
    "    def display(self):\n",
    "        print(self.eno, end=' ')\n",
    "        super().display()\n",
    "        print(self.dept, self.sal)"
   ]
  },
  {
   "cell_type": "code",
   "execution_count": 47,
   "metadata": {},
   "outputs": [
    {
     "name": "stdout",
     "output_type": "stream",
     "text": [
      "1 이름 : 홍길동, 나이 : 35, 성별 : 남자\n",
      "영업부 500\n"
     ]
    }
   ],
   "source": [
    "e1=Employee(1,'홍길동',35,'남자','영업부',500)\n",
    "e1.display()"
   ]
  },
  {
   "cell_type": "code",
   "execution_count": 52,
   "metadata": {},
   "outputs": [],
   "source": [
    "class Student(Person):\n",
    "    cname=\"a\" #클래스 변수생성\n",
    "    def __init__(self,sno,name,age,gender,major):\n",
    "        super().__init__(name,age,gender)\n",
    "        self.sno=sno\n",
    "        self.__major=major #__major : 외부에서 수정 불가하게 함.\n",
    "        \n",
    "    def display(self):\n",
    "        print(self.sno, end=' ')\n",
    "        super().display()\n",
    "        print(self.__major)"
   ]
  },
  {
   "cell_type": "code",
   "execution_count": null,
   "metadata": {},
   "outputs": [
    {
     "name": "stdout",
     "output_type": "stream",
     "text": [
      "3 이름 : 손흥민, 나이 : 32, 성별 : 남자\n",
      "체육교육학과\n",
      "3 이름 : 손흥민, 나이 : 32, 성별 : 남자\n",
      "체육교육학과\n"
     ]
    }
   ],
   "source": [
    "s3=Student(3,\"손흥민\",32,\"남자\",\"체육교육학과\")\n",
    "s3.display()\n",
    "#print(s3.__major)\n",
    "s3.__major=\"컴공\" #새로운 변수\n",
    "s3.display()"
   ]
  },
  {
   "cell_type": "code",
   "execution_count": null,
   "metadata": {},
   "outputs": [
    {
     "name": "stdout",
     "output_type": "stream",
     "text": [
      "1 이름 : 홍길동, 나이 : 20, 성별 : 남자\n",
      "정보통신\n",
      "1 이름 : 김길동, 나이 : 25, 성별 : 남자\n",
      "정보통신\n"
     ]
    }
   ],
   "source": [
    "s1=Student(1,\"홍길동\",20,\"남자\",\"정보통신\")\n",
    "s1.display()\n",
    "s1.name='김길동'\n",
    "s1.age=25\n",
    "s1.display()"
   ]
  },
  {
   "cell_type": "code",
   "execution_count": 54,
   "metadata": {},
   "outputs": [
    {
     "name": "stdout",
     "output_type": "stream",
     "text": [
      "2 이름 : 박경미, 나이 : 24, 성별 : 여자\n",
      "컴공\n",
      "2 이름 : 조유빈, 나이 : 24, 성별 : 여자\n",
      "컴공\n",
      "1 이름 : 김길동, 나이 : 25, 성별 : 남자\n",
      "정보통신\n",
      "정보통신\n",
      "aaa\n",
      "aaa\n",
      "aaa\n"
     ]
    }
   ],
   "source": [
    "s2=Student(2,\"박경미\",24,\"여자\",\"컴공\")\n",
    "s2.display()\n",
    "s2.name='조유빈'\n",
    "s2.__major='정보통신' #외부에서 수정 불가\n",
    "s2.display()\n",
    "s1.display()\n",
    "print(s2.__major)\n",
    "\n",
    "Student.cname='aaa'\n",
    "print(s1.cname)\n",
    "print(s2.cname)\n",
    "print(Student.cname)"
   ]
  }
 ],
 "metadata": {
  "kernelspec": {
   "display_name": "base",
   "language": "python",
   "name": "python3"
  },
  "language_info": {
   "codemirror_mode": {
    "name": "ipython",
    "version": 3
   },
   "file_extension": ".py",
   "mimetype": "text/x-python",
   "name": "python",
   "nbconvert_exporter": "python",
   "pygments_lexer": "ipython3",
   "version": "3.12.7"
  }
 },
 "nbformat": 4,
 "nbformat_minor": 2
}
