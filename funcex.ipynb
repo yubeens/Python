{
 "cells": [
  {
   "cell_type": "markdown",
   "metadata": {},
   "source": [
    "매개변수\n",
    "- 함수에 입력으로 전달된 값을 받는 변수\n",
    "\n",
    "인수\n",
    "- 함수를 호출할 때 전달받는 입력값"
   ]
  },
  {
   "cell_type": "code",
   "execution_count": null,
   "metadata": {},
   "outputs": [
    {
     "name": "stdout",
     "output_type": "stream",
     "text": [
      "7\n"
     ]
    }
   ],
   "source": [
    "def add(a,b):\n",
    "    return a+b\n",
    "\n",
    "result=add(3,4)\n",
    "print(result)"
   ]
  },
  {
   "cell_type": "code",
   "execution_count": null,
   "metadata": {},
   "outputs": [
    {
     "name": "stdout",
     "output_type": "stream",
     "text": [
      "Hi\n"
     ]
    }
   ],
   "source": [
    "def say():\n",
    "    return 'Hi'\n",
    "\n",
    "print(say())"
   ]
  },
  {
   "cell_type": "code",
   "execution_count": null,
   "metadata": {},
   "outputs": [
    {
     "name": "stdout",
     "output_type": "stream",
     "text": [
      "3 4\n",
      "None\n"
     ]
    }
   ],
   "source": [
    "def display(a,b):\n",
    "    print(a,b)  \n",
    "\n",
    "result = display(3,4)\n",
    "print(result)"
   ]
  },
  {
   "cell_type": "code",
   "execution_count": null,
   "metadata": {},
   "outputs": [
    {
     "name": "stdout",
     "output_type": "stream",
     "text": [
      "1\n",
      "3\n",
      "6\n",
      "10\n",
      "15\n"
     ]
    }
   ],
   "source": [
    "def sum(*a):\n",
    "    sum=0\n",
    "    for i in a:\n",
    "        sum+=i\n",
    "    print(sum)\n",
    "    \n",
    "\n",
    "sum(1)\n",
    "sum(1,2)\n",
    "sum(1,2,3)\n",
    "sum(1,2,3,4)\n",
    "sum(1,2,3,4,5)"
   ]
  },
  {
   "cell_type": "code",
   "execution_count": null,
   "metadata": {},
   "outputs": [
    {
     "name": "stdout",
     "output_type": "stream",
     "text": [
      "1\n",
      "('a',)\n",
      "a\n",
      "1\n",
      "(2, 'c')\n",
      "2 c\n",
      "1\n",
      "(2, 'c', [4, 3])\n",
      "2 c [4, 3]\n"
     ]
    }
   ],
   "source": [
    "def func1(a,*b): # *b는 가변인자 - 여러개의 인자를 받을 수 있음 / a는 하나의 인자만 받음 \n",
    "    print(a)\n",
    "    print(b)\n",
    "    print(*b)\n",
    "\n",
    "func1(1,\"a\")\n",
    "func1(1,2,\"c\")\n",
    "func1(1,2,\"c\",[4,3])"
   ]
  },
  {
   "cell_type": "code",
   "execution_count": null,
   "metadata": {},
   "outputs": [
    {
     "name": "stdout",
     "output_type": "stream",
     "text": [
      "15\n",
      "120\n"
     ]
    }
   ],
   "source": [
    "#입력값이 몇 개가 될지 모를 때 - 매개변수 앞에 *을 붙이면 입력값을 전부 모아 튜플로 만들어 줌\n",
    "def add_mul(choice,*args):\n",
    "    if choice==\"add\": #choice가 add일 때\n",
    "        result=0\n",
    "        for i in args:\n",
    "            result+=i #args에 있는 모든 값을 더함\n",
    "    elif choice==\"mul\": #choice가 mul일 때\n",
    "        result=1\n",
    "        for i in args:\n",
    "            result*=i #args에 있는 모든 값을 곱함\n",
    "    return result\n",
    "\n",
    "result=add_mul('add',1,2,3,4,5)\n",
    "print(result)\n",
    "\n",
    "result=add_mul('mul',1,2,3,4,5)\n",
    "print(result)"
   ]
  },
  {
   "cell_type": "code",
   "execution_count": null,
   "metadata": {},
   "outputs": [
    {
     "name": "stdout",
     "output_type": "stream",
     "text": [
      "20 홍길동\n"
     ]
    }
   ],
   "source": [
    "def fun2(age,name):\n",
    "    print(age,name)\n",
    "\n",
    "fun2(name=\"홍길동\",age=20)"
   ]
  },
  {
   "cell_type": "code",
   "execution_count": null,
   "metadata": {},
   "outputs": [
    {
     "name": "stdout",
     "output_type": "stream",
     "text": [
      "홍길동\n",
      "20\n",
      "홍길동\n",
      "20\n"
     ]
    }
   ],
   "source": [
    "def fun3(**args):\n",
    "    print(args['name']) #딕셔너리처럼 사용\n",
    "    print(args['age'])\n",
    "    print(args.get('name')) #get함수를 사용하면 해당 key값이 없을 때 None을 반환\n",
    "    print(args.get('age'))\n",
    "\n",
    "\n",
    "fun3(name='홍길동',age=20)"
   ]
  },
  {
   "cell_type": "code",
   "execution_count": null,
   "metadata": {},
   "outputs": [
    {
     "name": "stdout",
     "output_type": "stream",
     "text": [
      "(9, 20, -1, 0.8)\n"
     ]
    }
   ],
   "source": [
    "def add_and_mul(a,b):\n",
    "    return a+b,a*b,a-b,a/b #여러개 값을 한번에 반환할 수 있음\n",
    "\n",
    "result=add_and_mul(4,5)\n",
    "print(result)"
   ]
  },
  {
   "cell_type": "code",
   "execution_count": null,
   "metadata": {},
   "outputs": [
    {
     "name": "stdout",
     "output_type": "stream",
     "text": [
      "9\n"
     ]
    }
   ],
   "source": [
    "def add_and_mul(a,b): \n",
    "    return a+b  \n",
    "    return a*b  #이 코드는 실행되지 않음\n",
    "\n",
    "result=add_and_mul(4,5)\n",
    "print(result)"
   ]
  },
  {
   "cell_type": "code",
   "execution_count": null,
   "metadata": {},
   "outputs": [
    {
     "name": "stdout",
     "output_type": "stream",
     "text": [
      "홍길동\n",
      "20\n",
      "남자\n",
      "홍길동\n",
      "20\n",
      "남자\n",
      "홍길동\n",
      "20\n",
      "여자\n"
     ]
    }
   ],
   "source": [
    "def sya_myself(name,age,man=True): #man=True는 기본값을 설정해준 것\n",
    "    print(name)\n",
    "    print(age)\n",
    "    if man:\n",
    "        print('남자')\n",
    "    else:\n",
    "        print('여자')\n",
    "\n",
    "sya_myself('홍길동',20)\n",
    "sya_myself('홍길동',20,True) #man=True를 입력하지 않아도 True로 출력됨\n",
    "sya_myself('홍길동',20,False) #man=False로 출력됨\n"
   ]
  },
  {
   "cell_type": "code",
   "execution_count": null,
   "metadata": {},
   "outputs": [
    {
     "name": "stdout",
     "output_type": "stream",
     "text": [
      "20\n",
      "20\n"
     ]
    }
   ],
   "source": [
    "a=10\n",
    "def func():\n",
    "    global a #함수 내에서 전역변수를 사용하고 싶을 때 global을 사용\n",
    "    a=20\n",
    "    print(a)\n",
    "\n",
    "    \n",
    "func()\n",
    "print(a)"
   ]
  },
  {
   "cell_type": "code",
   "execution_count": null,
   "metadata": {},
   "outputs": [
    {
     "name": "stdout",
     "output_type": "stream",
     "text": [
      "20\n",
      "10\n"
     ]
    }
   ],
   "source": [
    "def func(a):\n",
    "    a=a+10\n",
    "    print(a)\n",
    "\n",
    "a=10\n",
    "func(a)\n",
    "print(a)"
   ]
  },
  {
   "cell_type": "code",
   "execution_count": null,
   "metadata": {},
   "outputs": [],
   "source": []
  },
  {
   "cell_type": "code",
   "execution_count": null,
   "metadata": {},
   "outputs": [
    {
     "name": "stdout",
     "output_type": "stream",
     "text": [
      "[11, 12, 13, 14]\n",
      "[11, 12, 13, 14]\n"
     ]
    }
   ],
   "source": [
    "def func(list1):\n",
    "    for i in range(len(list1)):\n",
    "        list1[i]+=10\n",
    "    print(list1)\n",
    "\n",
    "a=[1,2,3,4]\n",
    "func(a)\n",
    "print(a)"
   ]
  },
  {
   "cell_type": "code",
   "execution_count": null,
   "metadata": {},
   "outputs": [
    {
     "name": "stdout",
     "output_type": "stream",
     "text": [
      "bacadd\n",
      "bac\n"
     ]
    }
   ],
   "source": [
    "def func(str1):\n",
    "    str1+=\"add\" #str1에 add를 추가\n",
    "    print(str1) \n",
    "\n",
    "a=\"bac\"\n",
    "func(a) \n",
    "print(a)"
   ]
  },
  {
   "cell_type": "markdown",
   "metadata": {},
   "source": [
    "# LAMBDA"
   ]
  },
  {
   "cell_type": "code",
   "execution_count": 1,
   "metadata": {},
   "outputs": [
    {
     "name": "stdout",
     "output_type": "stream",
     "text": [
      "7\n"
     ]
    }
   ],
   "source": [
    "def add(a,b):\n",
    "    return a+b\n",
    "\n",
    "result=add(3,4)\n",
    "print(result)"
   ]
  },
  {
   "cell_type": "code",
   "execution_count": 2,
   "metadata": {},
   "outputs": [
    {
     "name": "stdout",
     "output_type": "stream",
     "text": [
      "7\n"
     ]
    }
   ],
   "source": [
    "add=lambda a,b:a+b #lambda를 사용하면 함수를 간단하게 만들 수 있음\n",
    "result=add(3,4)\n",
    "print(result)"
   ]
  },
  {
   "cell_type": "markdown",
   "metadata": {},
   "source": [
    "# 파일입출력"
   ]
  },
  {
   "cell_type": "code",
   "execution_count": null,
   "metadata": {},
   "outputs": [],
   "source": [
    "#파일열기모드 : r-읽기모드, w-쓰기모드, a-추가모드, b-바이너리모드\n",
    "f=open(\"data/test.txt\",'w') #파일을 쓰기모드로 열기\n",
    "f.write(\"가나다\")\n",
    "f.close()"
   ]
  },
  {
   "cell_type": "code",
   "execution_count": 8,
   "metadata": {},
   "outputs": [
    {
     "name": "stdout",
     "output_type": "stream",
     "text": [
      "가나다가나다\n"
     ]
    }
   ],
   "source": [
    "fr=open(\"data/test.txt\",'r') #파일을 읽기모드로 열기\n",
    "line=fr.readline() #한 줄씩 읽기\n",
    "print(line)\n",
    "fr.close()"
   ]
  },
  {
   "cell_type": "code",
   "execution_count": null,
   "metadata": {},
   "outputs": [],
   "source": [
    "f=open(\"data/test.txt\",'w')\n",
    "\n",
    "for i in range(1,11):\n",
    "    data=\"%d번째 줄입니다.\\n\"%i\n",
    "    f.write(data)\n",
    "    data=f\"{i}번째 줄입니다.\\n\"\n",
    "    f.write(data)\n",
    "f.close()"
   ]
  },
  {
   "cell_type": "code",
   "execution_count": 13,
   "metadata": {},
   "outputs": [
    {
     "name": "stdout",
     "output_type": "stream",
     "text": [
      "1번째 줄입니다.\n",
      "\n",
      "1번째 줄입니다.\n",
      "\n",
      "2번째 줄입니다.\n",
      "\n",
      "2번째 줄입니다.\n",
      "\n",
      "3번째 줄입니다.\n",
      "\n",
      "3번째 줄입니다.\n",
      "\n",
      "4번째 줄입니다.\n",
      "\n",
      "4번째 줄입니다.\n",
      "\n",
      "5번째 줄입니다.\n",
      "\n",
      "5번째 줄입니다.\n",
      "\n",
      "6번째 줄입니다.\n",
      "\n",
      "6번째 줄입니다.\n",
      "\n",
      "7번째 줄입니다.\n",
      "\n",
      "7번째 줄입니다.\n",
      "\n",
      "8번째 줄입니다.\n",
      "\n",
      "8번째 줄입니다.\n",
      "\n",
      "9번째 줄입니다.\n",
      "\n",
      "9번째 줄입니다.\n",
      "\n",
      "10번째 줄입니다.\n",
      "\n",
      "10번째 줄입니다.\n",
      "\n"
     ]
    }
   ],
   "source": [
    "f=open(\"data/test.txt\",'r')\n",
    "while True:\n",
    "    line=f.readline() #한 줄씩 읽기\n",
    "    if not line: break #더 이상 읽을 줄이 없으면 종료\n",
    "    print(line)\n",
    "f.close()\n"
   ]
  },
  {
   "cell_type": "code",
   "execution_count": 22,
   "metadata": {},
   "outputs": [
    {
     "name": "stdout",
     "output_type": "stream",
     "text": [
      "1번째 줄입니다.\n",
      "\n",
      "1번째 줄입니다.\n",
      "\n",
      "2번째 줄입니다.\n",
      "\n",
      "2번째 줄입니다.\n",
      "\n",
      "3번째 줄입니다.\n",
      "\n",
      "3번째 줄입니다.\n",
      "\n",
      "4번째 줄입니다.\n",
      "\n",
      "4번째 줄입니다.\n",
      "\n",
      "5번째 줄입니다.\n",
      "\n",
      "5번째 줄입니다.\n",
      "\n",
      "6번째 줄입니다.\n",
      "\n",
      "6번째 줄입니다.\n",
      "\n",
      "7번째 줄입니다.\n",
      "\n",
      "7번째 줄입니다.\n",
      "\n",
      "8번째 줄입니다.\n",
      "\n",
      "8번째 줄입니다.\n",
      "\n",
      "9번째 줄입니다.\n",
      "\n",
      "9번째 줄입니다.\n",
      "\n",
      "10번째 줄입니다.\n",
      "\n",
      "10번째 줄입니다.\n",
      "\n"
     ]
    }
   ],
   "source": [
    "f=open(\"data/test02.txt\",'r')\n",
    "\n",
    "lines=f.readlines() #모든 줄을 읽어서 리스트로 반환\n",
    "for line in lines:\n",
    "    print(line)\n",
    "\n",
    "f.close()   "
   ]
  },
  {
   "cell_type": "code",
   "execution_count": 24,
   "metadata": {},
   "outputs": [
    {
     "name": "stdout",
     "output_type": "stream",
     "text": [
      "1번째 줄입니다.\n",
      "1번째 줄입니다.\n",
      "2번째 줄입니다.\n",
      "2번째 줄입니다.\n",
      "3번째 줄입니다.\n",
      "3번째 줄입니다.\n",
      "4번째 줄입니다.\n",
      "4번째 줄입니다.\n",
      "5번째 줄입니다.\n",
      "5번째 줄입니다.\n",
      "6번째 줄입니다.\n",
      "6번째 줄입니다.\n",
      "7번째 줄입니다.\n",
      "7번째 줄입니다.\n",
      "8번째 줄입니다.\n",
      "8번째 줄입니다.\n",
      "9번째 줄입니다.\n",
      "9번째 줄입니다.\n",
      "10번째 줄입니다.\n",
      "10번째 줄입니다.\n",
      "\n"
     ]
    }
   ],
   "source": [
    "f=open(\"data/test02.txt\",'r')\n",
    "data=f.read() #파일 전체를 읽어서 문자열로 반환\n",
    "print(data)\n",
    "f.close()"
   ]
  },
  {
   "cell_type": "code",
   "execution_count": 25,
   "metadata": {},
   "outputs": [
    {
     "name": "stdout",
     "output_type": "stream",
     "text": [
      "1번째 줄입니다.\n",
      "\n",
      "1번째 줄입니다.\n",
      "\n",
      "2번째 줄입니다.\n",
      "\n",
      "2번째 줄입니다.\n",
      "\n",
      "3번째 줄입니다.\n",
      "\n",
      "3번째 줄입니다.\n",
      "\n",
      "4번째 줄입니다.\n",
      "\n",
      "4번째 줄입니다.\n",
      "\n",
      "5번째 줄입니다.\n",
      "\n",
      "5번째 줄입니다.\n",
      "\n",
      "6번째 줄입니다.\n",
      "\n",
      "6번째 줄입니다.\n",
      "\n",
      "7번째 줄입니다.\n",
      "\n",
      "7번째 줄입니다.\n",
      "\n",
      "8번째 줄입니다.\n",
      "\n",
      "8번째 줄입니다.\n",
      "\n",
      "9번째 줄입니다.\n",
      "\n",
      "9번째 줄입니다.\n",
      "\n",
      "10번째 줄입니다.\n",
      "\n",
      "10번째 줄입니다.\n",
      "\n"
     ]
    }
   ],
   "source": [
    "f=open(\"data/test02.txt\",'r') #파일을 읽기모드로 열기\n",
    "for line in f:\n",
    "    print(line)\n",
    "f.close()\n"
   ]
  },
  {
   "cell_type": "code",
   "execution_count": 26,
   "metadata": {},
   "outputs": [],
   "source": [
    "with open(\"data/test02.txt\",'w') as f: #with문을 사용하면 파일을 열고 닫는 것을 자동으로 처리\n",
    "    f.write(\"Life is too short, you need python\")"
   ]
  },
  {
   "cell_type": "code",
   "execution_count": null,
   "metadata": {},
   "outputs": [
    {
     "name": "stdout",
     "output_type": "stream",
     "text": [
      "Life is too short, you need python\n"
     ]
    }
   ],
   "source": [
    "with open(\"data/test02.txt\",'r') as f: \n",
    "    data=f.read()\n",
    "    print(data)"
   ]
  }
 ],
 "metadata": {
  "kernelspec": {
   "display_name": "base",
   "language": "python",
   "name": "python3"
  },
  "language_info": {
   "codemirror_mode": {
    "name": "ipython",
    "version": 3
   },
   "file_extension": ".py",
   "mimetype": "text/x-python",
   "name": "python",
   "nbconvert_exporter": "python",
   "pygments_lexer": "ipython3",
   "version": "3.12.7"
  }
 },
 "nbformat": 4,
 "nbformat_minor": 2
}
